{
 "cells": [
  {
   "cell_type": "code",
   "execution_count": 2,
   "id": "e9050c92-fc7c-42ec-9eec-dab173115528",
   "metadata": {
    "execution": {
     "iopub.execute_input": "2023-06-26T16:15:15.163098Z",
     "iopub.status.busy": "2023-06-26T16:15:15.162409Z",
     "iopub.status.idle": "2023-06-26T16:15:22.744966Z",
     "shell.execute_reply": "2023-06-26T16:15:22.743702Z",
     "shell.execute_reply.started": "2023-06-26T16:15:15.163066Z"
    },
    "tags": []
   },
   "outputs": [],
   "source": [
    "from datasets import load_dataset"
   ]
  },
  {
   "cell_type": "code",
   "execution_count": 3,
   "id": "92a91025-7d83-4dee-a197-5afda5960846",
   "metadata": {
    "execution": {
     "iopub.execute_input": "2023-06-26T16:15:22.748273Z",
     "iopub.status.busy": "2023-06-26T16:15:22.747328Z",
     "iopub.status.idle": "2023-06-26T16:15:38.734859Z",
     "shell.execute_reply": "2023-06-26T16:15:38.733575Z",
     "shell.execute_reply.started": "2023-06-26T16:15:22.748222Z"
    },
    "tags": []
   },
   "outputs": [
    {
     "data": {
      "application/vnd.jupyter.widget-view+json": {
       "model_id": "f46aff6478674b2ea5c268bf392db7ee",
       "version_major": 2,
       "version_minor": 0
      },
      "text/plain": [
       "Downloading builder script:   0%|          | 0.00/5.27k [00:00<?, ?B/s]"
      ]
     },
     "metadata": {},
     "output_type": "display_data"
    },
    {
     "data": {
      "application/vnd.jupyter.widget-view+json": {
       "model_id": "c514ad6a77d54124beb122118b372726",
       "version_major": 2,
       "version_minor": 0
      },
      "text/plain": [
       "Downloading metadata:   0%|          | 0.00/2.36k [00:00<?, ?B/s]"
      ]
     },
     "metadata": {},
     "output_type": "display_data"
    },
    {
     "data": {
      "application/vnd.jupyter.widget-view+json": {
       "model_id": "a8a0869caa3241c7bfd00993fbff8fb1",
       "version_major": 2,
       "version_minor": 0
      },
      "text/plain": [
       "Downloading readme:   0%|          | 0.00/7.67k [00:00<?, ?B/s]"
      ]
     },
     "metadata": {},
     "output_type": "display_data"
    },
    {
     "name": "stdout",
     "output_type": "stream",
     "text": [
      "Downloading and preparing dataset squad/plain_text to /root/.cache/huggingface/datasets/squad/plain_text/1.0.0/d6ec3ceb99ca480ce37cdd35555d6cb2511d223b9150cce08a837ef62ffea453...\n"
     ]
    },
    {
     "data": {
      "application/vnd.jupyter.widget-view+json": {
       "model_id": "c1876dfe5de440f6b2d15c8e35e24892",
       "version_major": 2,
       "version_minor": 0
      },
      "text/plain": [
       "Downloading data files:   0%|          | 0/2 [00:00<?, ?it/s]"
      ]
     },
     "metadata": {},
     "output_type": "display_data"
    },
    {
     "data": {
      "application/vnd.jupyter.widget-view+json": {
       "model_id": "09e4b7ad029242f6a20153a68f9a72ea",
       "version_major": 2,
       "version_minor": 0
      },
      "text/plain": [
       "Downloading data:   0%|          | 0.00/8.12M [00:00<?, ?B/s]"
      ]
     },
     "metadata": {},
     "output_type": "display_data"
    },
    {
     "data": {
      "application/vnd.jupyter.widget-view+json": {
       "model_id": "f832871d4e8d4d05a750ccb84e687d36",
       "version_major": 2,
       "version_minor": 0
      },
      "text/plain": [
       "Downloading data:   0%|          | 0.00/1.05M [00:00<?, ?B/s]"
      ]
     },
     "metadata": {},
     "output_type": "display_data"
    },
    {
     "data": {
      "application/vnd.jupyter.widget-view+json": {
       "model_id": "96c53aa793c043078ba6d7f9e902ed6e",
       "version_major": 2,
       "version_minor": 0
      },
      "text/plain": [
       "Extracting data files:   0%|          | 0/2 [00:00<?, ?it/s]"
      ]
     },
     "metadata": {},
     "output_type": "display_data"
    },
    {
     "data": {
      "application/vnd.jupyter.widget-view+json": {
       "model_id": "",
       "version_major": 2,
       "version_minor": 0
      },
      "text/plain": [
       "Generating train split:   0%|          | 0/87599 [00:00<?, ? examples/s]"
      ]
     },
     "metadata": {},
     "output_type": "display_data"
    },
    {
     "data": {
      "application/vnd.jupyter.widget-view+json": {
       "model_id": "",
       "version_major": 2,
       "version_minor": 0
      },
      "text/plain": [
       "Generating validation split:   0%|          | 0/10570 [00:00<?, ? examples/s]"
      ]
     },
     "metadata": {},
     "output_type": "display_data"
    },
    {
     "name": "stdout",
     "output_type": "stream",
     "text": [
      "Dataset squad downloaded and prepared to /root/.cache/huggingface/datasets/squad/plain_text/1.0.0/d6ec3ceb99ca480ce37cdd35555d6cb2511d223b9150cce08a837ef62ffea453. Subsequent calls will reuse this data.\n"
     ]
    }
   ],
   "source": [
    "#dataset = load_dataset(\"pietrolesci/gpt3_nli\", split=\"train\")\n",
    "dataset = load_dataset(\"squad\", split=\"train\")"
   ]
  },
  {
   "cell_type": "code",
   "execution_count": 7,
   "id": "d321e624-c6c4-4844-ab30-951b45cd2fb7",
   "metadata": {
    "execution": {
     "iopub.execute_input": "2023-06-26T16:17:40.191436Z",
     "iopub.status.busy": "2023-06-26T16:17:40.190906Z",
     "iopub.status.idle": "2023-06-26T16:17:40.198902Z",
     "shell.execute_reply": "2023-06-26T16:17:40.197642Z",
     "shell.execute_reply.started": "2023-06-26T16:17:40.191394Z"
    },
    "tags": []
   },
   "outputs": [
    {
     "data": {
      "text/plain": [
       "Dataset({\n",
       "    features: ['id', 'title', 'context', 'question', 'answers'],\n",
       "    num_rows: 87599\n",
       "})"
      ]
     },
     "execution_count": 7,
     "metadata": {},
     "output_type": "execute_result"
    }
   ],
   "source": [
    "dataset"
   ]
  },
  {
   "cell_type": "code",
   "execution_count": 8,
   "id": "3e0b68aa-379f-4cca-9ca7-15c26e0db549",
   "metadata": {
    "execution": {
     "iopub.execute_input": "2023-06-26T16:17:41.315500Z",
     "iopub.status.busy": "2023-06-26T16:17:41.314833Z",
     "iopub.status.idle": "2023-06-26T16:17:41.321651Z",
     "shell.execute_reply": "2023-06-26T16:17:41.320842Z",
     "shell.execute_reply.started": "2023-06-26T16:17:41.315467Z"
    },
    "tags": []
   },
   "outputs": [
    {
     "data": {
      "text/plain": [
       "{'id': Value(dtype='string', id=None),\n",
       " 'title': Value(dtype='string', id=None),\n",
       " 'context': Value(dtype='string', id=None),\n",
       " 'question': Value(dtype='string', id=None),\n",
       " 'answers': Sequence(feature={'text': Value(dtype='string', id=None), 'answer_start': Value(dtype='int32', id=None)}, length=-1, id=None)}"
      ]
     },
     "execution_count": 8,
     "metadata": {},
     "output_type": "execute_result"
    }
   ],
   "source": [
    "dataset.features"
   ]
  },
  {
   "cell_type": "code",
   "execution_count": 16,
   "id": "0be5a836-7626-4f91-8a06-6ff62b718970",
   "metadata": {
    "execution": {
     "iopub.execute_input": "2023-06-26T16:23:11.242434Z",
     "iopub.status.busy": "2023-06-26T16:23:11.241685Z",
     "iopub.status.idle": "2023-06-26T16:23:13.098936Z",
     "shell.execute_reply": "2023-06-26T16:23:13.097883Z",
     "shell.execute_reply.started": "2023-06-26T16:23:11.242391Z"
    },
    "tags": []
   },
   "outputs": [
    {
     "name": "stderr",
     "output_type": "stream",
     "text": [
      "Using pad_token, but it is not set yet.\n"
     ]
    }
   ],
   "source": [
    "from transformers import AutoTokenizer\n",
    "tokenizer = AutoTokenizer.from_pretrained(\"gpt2\")\n",
    "if tokenizer.pad_token is None:\n",
    "    tokenizer.pad_token = tokenizer.eos_token"
   ]
  },
  {
   "cell_type": "code",
   "execution_count": 34,
   "id": "2910514f-7f6f-4caf-b9bb-45ac042be6dc",
   "metadata": {
    "execution": {
     "iopub.execute_input": "2023-06-26T16:33:11.721840Z",
     "iopub.status.busy": "2023-06-26T16:33:11.720958Z",
     "iopub.status.idle": "2023-06-26T16:33:11.728841Z",
     "shell.execute_reply": "2023-06-26T16:33:11.728117Z",
     "shell.execute_reply.started": "2023-06-26T16:33:11.721768Z"
    }
   },
   "outputs": [
    {
     "data": {
      "text/plain": [
       "50256"
      ]
     },
     "execution_count": 34,
     "metadata": {},
     "output_type": "execute_result"
    }
   ],
   "source": [
    "tokenizer.pad_token_id"
   ]
  },
  {
   "cell_type": "code",
   "execution_count": 19,
   "id": "9f7e2691-2f9b-4435-be68-72f8c3b299b6",
   "metadata": {
    "execution": {
     "iopub.execute_input": "2023-06-26T16:25:19.227551Z",
     "iopub.status.busy": "2023-06-26T16:25:19.226609Z",
     "iopub.status.idle": "2023-06-26T16:25:19.236208Z",
     "shell.execute_reply": "2023-06-26T16:25:19.235478Z",
     "shell.execute_reply.started": "2023-06-26T16:25:19.227489Z"
    }
   },
   "outputs": [
    {
     "data": {
      "text/plain": [
       "'<|endoftext|>'"
      ]
     },
     "execution_count": 19,
     "metadata": {},
     "output_type": "execute_result"
    }
   ],
   "source": [
    "tokenizer.pad_token"
   ]
  },
  {
   "cell_type": "code",
   "execution_count": 36,
   "id": "e4e57dcd-faeb-4fc3-9c3e-14676d171dcd",
   "metadata": {
    "execution": {
     "iopub.execute_input": "2023-06-26T16:37:46.799890Z",
     "iopub.status.busy": "2023-06-26T16:37:46.799443Z",
     "iopub.status.idle": "2023-06-26T16:37:47.054599Z",
     "shell.execute_reply": "2023-06-26T16:37:47.053347Z",
     "shell.execute_reply.started": "2023-06-26T16:37:46.799860Z"
    },
    "tags": []
   },
   "outputs": [
    {
     "data": {
      "application/vnd.jupyter.widget-view+json": {
       "model_id": "021d297f6e3d4cd496065afbcfd0a6e6",
       "version_major": 2,
       "version_minor": 0
      },
      "text/plain": [
       "  0%|          | 0/4 [00:00<?, ?ba/s]"
      ]
     },
     "metadata": {},
     "output_type": "display_data"
    },
    {
     "name": "stdout",
     "output_type": "stream",
     "text": [
      "{'input_ids': tensor([[19895,  5712, 20221,    11,   262,  1524,   468,   257,  7835,  2095,\n",
      "            13,  1629,   404,   262,  8774, 11819,   338,  3869, 29500,   318,\n",
      "           257, 10861, 15207,   286,   262,  5283,  5335,    13, 34528,   287,\n",
      "          2166,   286,   262,  8774, 11819,   290,  6476,   340,    11,   318,\n",
      "           257, 15317, 15207,   286,  1951,   351,  5101,   510, 49309,   351,\n",
      "           262,  8177,   366, 37522,   578,  1215,  2185, 16543,  2516,  1911,\n",
      "          7406,   284,   262,  8774, 11819,   318,   262, 32520,  3970,   286,\n",
      "           262, 17380,  8894,    13, 34528,  2157,   262, 37792,  3970,   318,\n",
      "           262, 10299, 33955,    11,   257, 37919,  1295,   286, 11443,   290,\n",
      "         14580,    13,   632,   318,   257, 30069,   286,   262,  7128, 33955,\n",
      "           379,   406,   454,  8906,    11,  4881,   810,   262,  5283,  5335,\n",
      "          1128,  7241,   306,  4120,   284,  9281,  6206,   324,  5857,   311,\n",
      "         12944,   343,   516,   287,  1248,  3365,    13,  1629],\n",
      "        [19895,  5712, 20221,    11,   262,  1524,   468,   257,  7835,  2095,\n",
      "            13,  1629,   404,   262,  8774, 11819,   338,  3869, 29500,   318,\n",
      "           257, 10861, 15207,   286,   262,  5283,  5335,    13, 34528,   287,\n",
      "          2166,   286,   262,  8774, 11819,   290,  6476,   340,    11,   318,\n",
      "           257, 15317, 15207,   286,  1951,   351,  5101,   510, 49309,   351,\n",
      "           262,  8177,   366, 37522,   578,  1215,  2185, 16543,  2516,  1911,\n",
      "          7406,   284,   262,  8774, 11819,   318,   262, 32520,  3970,   286,\n",
      "           262, 17380,  8894,    13, 34528,  2157,   262, 37792,  3970,   318,\n",
      "           262, 10299, 33955,    11,   257, 37919,  1295,   286, 11443,   290,\n",
      "         14580,    13,   632,   318,   257, 30069,   286,   262,  7128, 33955,\n",
      "           379,   406,   454,  8906,    11,  4881,   810,   262,  5283,  5335,\n",
      "          1128,  7241,   306,  4120,   284,  9281,  6206,   324,  5857,   311,\n",
      "         12944,   343,   516,   287,  1248,  3365,    13,  1629]]), 'attention_mask': tensor([[1, 1, 1, 1, 1, 1, 1, 1, 1, 1, 1, 1, 1, 1, 1, 1, 1, 1, 1, 1, 1, 1, 1, 1,\n",
      "         1, 1, 1, 1, 1, 1, 1, 1, 1, 1, 1, 1, 1, 1, 1, 1, 1, 1, 1, 1, 1, 1, 1, 1,\n",
      "         1, 1, 1, 1, 1, 1, 1, 1, 1, 1, 1, 1, 1, 1, 1, 1, 1, 1, 1, 1, 1, 1, 1, 1,\n",
      "         1, 1, 1, 1, 1, 1, 1, 1, 1, 1, 1, 1, 1, 1, 1, 1, 1, 1, 1, 1, 1, 1, 1, 1,\n",
      "         1, 1, 1, 1, 1, 1, 1, 1, 1, 1, 1, 1, 1, 1, 1, 1, 1, 1, 1, 1, 1, 1, 1, 1,\n",
      "         1, 1, 1, 1, 1, 1, 1, 1],\n",
      "        [1, 1, 1, 1, 1, 1, 1, 1, 1, 1, 1, 1, 1, 1, 1, 1, 1, 1, 1, 1, 1, 1, 1, 1,\n",
      "         1, 1, 1, 1, 1, 1, 1, 1, 1, 1, 1, 1, 1, 1, 1, 1, 1, 1, 1, 1, 1, 1, 1, 1,\n",
      "         1, 1, 1, 1, 1, 1, 1, 1, 1, 1, 1, 1, 1, 1, 1, 1, 1, 1, 1, 1, 1, 1, 1, 1,\n",
      "         1, 1, 1, 1, 1, 1, 1, 1, 1, 1, 1, 1, 1, 1, 1, 1, 1, 1, 1, 1, 1, 1, 1, 1,\n",
      "         1, 1, 1, 1, 1, 1, 1, 1, 1, 1, 1, 1, 1, 1, 1, 1, 1, 1, 1, 1, 1, 1, 1, 1,\n",
      "         1, 1, 1, 1, 1, 1, 1, 1]])}\n",
      "tensor([[ 5712, 20221,    11,   262,  1524,   468,   257,  7835,  2095,    13,\n",
      "          1629,   404,   262,  8774, 11819,   338,  3869, 29500,   318,   257,\n",
      "         10861, 15207,   286,   262,  5283,  5335,    13, 34528,   287,  2166,\n",
      "           286,   262,  8774, 11819,   290,  6476,   340,    11,   318,   257,\n",
      "         15317, 15207,   286,  1951,   351,  5101,   510, 49309,   351,   262,\n",
      "          8177,   366, 37522,   578,  1215,  2185, 16543,  2516,  1911,  7406,\n",
      "           284,   262,  8774, 11819,   318,   262, 32520,  3970,   286,   262,\n",
      "         17380,  8894,    13, 34528,  2157,   262, 37792,  3970,   318,   262,\n",
      "         10299, 33955,    11,   257, 37919,  1295,   286, 11443,   290, 14580,\n",
      "            13,   632,   318,   257, 30069,   286,   262,  7128, 33955,   379,\n",
      "           406,   454,  8906,    11,  4881,   810,   262,  5283,  5335,  1128,\n",
      "          7241,   306,  4120,   284,  9281,  6206,   324,  5857,   311, 12944,\n",
      "           343,   516,   287,  1248,  3365,    13,  1629],\n",
      "        [ 5712, 20221,    11,   262,  1524,   468,   257,  7835,  2095,    13,\n",
      "          1629,   404,   262,  8774, 11819,   338,  3869, 29500,   318,   257,\n",
      "         10861, 15207,   286,   262,  5283,  5335,    13, 34528,   287,  2166,\n",
      "           286,   262,  8774, 11819,   290,  6476,   340,    11,   318,   257,\n",
      "         15317, 15207,   286,  1951,   351,  5101,   510, 49309,   351,   262,\n",
      "          8177,   366, 37522,   578,  1215,  2185, 16543,  2516,  1911,  7406,\n",
      "           284,   262,  8774, 11819,   318,   262, 32520,  3970,   286,   262,\n",
      "         17380,  8894,    13, 34528,  2157,   262, 37792,  3970,   318,   262,\n",
      "         10299, 33955,    11,   257, 37919,  1295,   286, 11443,   290, 14580,\n",
      "            13,   632,   318,   257, 30069,   286,   262,  7128, 33955,   379,\n",
      "           406,   454,  8906,    11,  4881,   810,   262,  5283,  5335,  1128,\n",
      "          7241,   306,  4120,   284,  9281,  6206,   324,  5857,   311, 12944,\n",
      "           343,   516,   287,  1248,  3365,    13,  1629]])\n"
     ]
    },
    {
     "ename": "NameError",
     "evalue": "name 'asdfsfd' is not defined",
     "output_type": "error",
     "traceback": [
      "\u001b[0;31m---------------------------------------------------------------------------\u001b[0m",
      "\u001b[0;31mNameError\u001b[0m                                 Traceback (most recent call last)",
      "Cell \u001b[0;32mIn [36], line 22\u001b[0m\n\u001b[1;32m     18\u001b[0m     \u001b[38;5;28;01mreturn\u001b[39;00m {\u001b[38;5;241m*\u001b[39m\u001b[38;5;241m*\u001b[39minput_text, \u001b[38;5;124m\"\u001b[39m\u001b[38;5;124mlabels\u001b[39m\u001b[38;5;124m\"\u001b[39m: ret_labels}\n\u001b[1;32m     20\u001b[0m dataset \u001b[38;5;241m=\u001b[39m dataset\u001b[38;5;241m.\u001b[39mselect(\u001b[38;5;28mrange\u001b[39m(\u001b[38;5;241m8\u001b[39m))\n\u001b[0;32m---> 22\u001b[0m dataset \u001b[38;5;241m=\u001b[39m \u001b[43mdataset\u001b[49m\u001b[38;5;241;43m.\u001b[39;49m\u001b[43mmap\u001b[49m\u001b[43m(\u001b[49m\n\u001b[1;32m     23\u001b[0m \u001b[43m    \u001b[49m\u001b[43mpreprocess\u001b[49m\u001b[43m,\u001b[49m\n\u001b[1;32m     24\u001b[0m \u001b[43m    \u001b[49m\u001b[43mbatched\u001b[49m\u001b[38;5;241;43m=\u001b[39;49m\u001b[38;5;28;43;01mTrue\u001b[39;49;00m\u001b[43m,\u001b[49m\n\u001b[1;32m     25\u001b[0m \u001b[43m    \u001b[49m\u001b[43mbatch_size\u001b[49m\u001b[38;5;241;43m=\u001b[39;49m\u001b[38;5;241;43m2\u001b[39;49m\u001b[43m,\u001b[49m\n\u001b[1;32m     26\u001b[0m \u001b[43m    \u001b[49m\u001b[43mremove_columns\u001b[49m\u001b[38;5;241;43m=\u001b[39;49m\u001b[43m[\u001b[49m\u001b[38;5;124;43m\"\u001b[39;49m\u001b[38;5;124;43mid\u001b[39;49m\u001b[38;5;124;43m\"\u001b[39;49m\u001b[43m,\u001b[49m\u001b[43m \u001b[49m\u001b[38;5;124;43m\"\u001b[39;49m\u001b[38;5;124;43mtitle\u001b[39;49m\u001b[38;5;124;43m\"\u001b[39;49m\u001b[43m,\u001b[49m\u001b[43m \u001b[49m\u001b[38;5;124;43m\"\u001b[39;49m\u001b[38;5;124;43mcontext\u001b[39;49m\u001b[38;5;124;43m\"\u001b[39;49m\u001b[43m,\u001b[49m\u001b[43m \u001b[49m\u001b[38;5;124;43m\"\u001b[39;49m\u001b[38;5;124;43mquestion\u001b[39;49m\u001b[38;5;124;43m\"\u001b[39;49m\u001b[43m,\u001b[49m\u001b[43m \u001b[49m\u001b[38;5;124;43m\"\u001b[39;49m\u001b[38;5;124;43manswers\u001b[39;49m\u001b[38;5;124;43m\"\u001b[39;49m\u001b[43m]\u001b[49m\u001b[43m,\u001b[49m\n\u001b[1;32m     27\u001b[0m \u001b[43m)\u001b[49m\u001b[38;5;241m.\u001b[39mwith_format(\u001b[38;5;124m\"\u001b[39m\u001b[38;5;124mtorch\u001b[39m\u001b[38;5;124m\"\u001b[39m)\n",
      "File \u001b[0;32m~/.conda/envs/pre_train/lib/python3.8/site-packages/datasets/arrow_dataset.py:2815\u001b[0m, in \u001b[0;36mDataset.map\u001b[0;34m(self, function, with_indices, with_rank, input_columns, batched, batch_size, drop_last_batch, remove_columns, keep_in_memory, load_from_cache_file, cache_file_name, writer_batch_size, features, disable_nullable, fn_kwargs, num_proc, suffix_template, new_fingerprint, desc)\u001b[0m\n\u001b[1;32m   2812\u001b[0m disable_tqdm \u001b[38;5;241m=\u001b[39m \u001b[38;5;129;01mnot\u001b[39;00m logging\u001b[38;5;241m.\u001b[39mis_progress_bar_enabled()\n\u001b[1;32m   2814\u001b[0m \u001b[38;5;28;01mif\u001b[39;00m num_proc \u001b[38;5;129;01mis\u001b[39;00m \u001b[38;5;28;01mNone\u001b[39;00m \u001b[38;5;129;01mor\u001b[39;00m num_proc \u001b[38;5;241m==\u001b[39m \u001b[38;5;241m1\u001b[39m:\n\u001b[0;32m-> 2815\u001b[0m     \u001b[38;5;28;01mreturn\u001b[39;00m \u001b[38;5;28;43mself\u001b[39;49m\u001b[38;5;241;43m.\u001b[39;49m\u001b[43m_map_single\u001b[49m\u001b[43m(\u001b[49m\n\u001b[1;32m   2816\u001b[0m \u001b[43m        \u001b[49m\u001b[43mfunction\u001b[49m\u001b[38;5;241;43m=\u001b[39;49m\u001b[43mfunction\u001b[49m\u001b[43m,\u001b[49m\n\u001b[1;32m   2817\u001b[0m \u001b[43m        \u001b[49m\u001b[43mwith_indices\u001b[49m\u001b[38;5;241;43m=\u001b[39;49m\u001b[43mwith_indices\u001b[49m\u001b[43m,\u001b[49m\n\u001b[1;32m   2818\u001b[0m \u001b[43m        \u001b[49m\u001b[43mwith_rank\u001b[49m\u001b[38;5;241;43m=\u001b[39;49m\u001b[43mwith_rank\u001b[49m\u001b[43m,\u001b[49m\n\u001b[1;32m   2819\u001b[0m \u001b[43m        \u001b[49m\u001b[43minput_columns\u001b[49m\u001b[38;5;241;43m=\u001b[39;49m\u001b[43minput_columns\u001b[49m\u001b[43m,\u001b[49m\n\u001b[1;32m   2820\u001b[0m \u001b[43m        \u001b[49m\u001b[43mbatched\u001b[49m\u001b[38;5;241;43m=\u001b[39;49m\u001b[43mbatched\u001b[49m\u001b[43m,\u001b[49m\n\u001b[1;32m   2821\u001b[0m \u001b[43m        \u001b[49m\u001b[43mbatch_size\u001b[49m\u001b[38;5;241;43m=\u001b[39;49m\u001b[43mbatch_size\u001b[49m\u001b[43m,\u001b[49m\n\u001b[1;32m   2822\u001b[0m \u001b[43m        \u001b[49m\u001b[43mdrop_last_batch\u001b[49m\u001b[38;5;241;43m=\u001b[39;49m\u001b[43mdrop_last_batch\u001b[49m\u001b[43m,\u001b[49m\n\u001b[1;32m   2823\u001b[0m \u001b[43m        \u001b[49m\u001b[43mremove_columns\u001b[49m\u001b[38;5;241;43m=\u001b[39;49m\u001b[43mremove_columns\u001b[49m\u001b[43m,\u001b[49m\n\u001b[1;32m   2824\u001b[0m \u001b[43m        \u001b[49m\u001b[43mkeep_in_memory\u001b[49m\u001b[38;5;241;43m=\u001b[39;49m\u001b[43mkeep_in_memory\u001b[49m\u001b[43m,\u001b[49m\n\u001b[1;32m   2825\u001b[0m \u001b[43m        \u001b[49m\u001b[43mload_from_cache_file\u001b[49m\u001b[38;5;241;43m=\u001b[39;49m\u001b[43mload_from_cache_file\u001b[49m\u001b[43m,\u001b[49m\n\u001b[1;32m   2826\u001b[0m \u001b[43m        \u001b[49m\u001b[43mcache_file_name\u001b[49m\u001b[38;5;241;43m=\u001b[39;49m\u001b[43mcache_file_name\u001b[49m\u001b[43m,\u001b[49m\n\u001b[1;32m   2827\u001b[0m \u001b[43m        \u001b[49m\u001b[43mwriter_batch_size\u001b[49m\u001b[38;5;241;43m=\u001b[39;49m\u001b[43mwriter_batch_size\u001b[49m\u001b[43m,\u001b[49m\n\u001b[1;32m   2828\u001b[0m \u001b[43m        \u001b[49m\u001b[43mfeatures\u001b[49m\u001b[38;5;241;43m=\u001b[39;49m\u001b[43mfeatures\u001b[49m\u001b[43m,\u001b[49m\n\u001b[1;32m   2829\u001b[0m \u001b[43m        \u001b[49m\u001b[43mdisable_nullable\u001b[49m\u001b[38;5;241;43m=\u001b[39;49m\u001b[43mdisable_nullable\u001b[49m\u001b[43m,\u001b[49m\n\u001b[1;32m   2830\u001b[0m \u001b[43m        \u001b[49m\u001b[43mfn_kwargs\u001b[49m\u001b[38;5;241;43m=\u001b[39;49m\u001b[43mfn_kwargs\u001b[49m\u001b[43m,\u001b[49m\n\u001b[1;32m   2831\u001b[0m \u001b[43m        \u001b[49m\u001b[43mnew_fingerprint\u001b[49m\u001b[38;5;241;43m=\u001b[39;49m\u001b[43mnew_fingerprint\u001b[49m\u001b[43m,\u001b[49m\n\u001b[1;32m   2832\u001b[0m \u001b[43m        \u001b[49m\u001b[43mdisable_tqdm\u001b[49m\u001b[38;5;241;43m=\u001b[39;49m\u001b[43mdisable_tqdm\u001b[49m\u001b[43m,\u001b[49m\n\u001b[1;32m   2833\u001b[0m \u001b[43m        \u001b[49m\u001b[43mdesc\u001b[49m\u001b[38;5;241;43m=\u001b[39;49m\u001b[43mdesc\u001b[49m\u001b[43m,\u001b[49m\n\u001b[1;32m   2834\u001b[0m \u001b[43m    \u001b[49m\u001b[43m)\u001b[49m\n\u001b[1;32m   2835\u001b[0m \u001b[38;5;28;01melse\u001b[39;00m:\n\u001b[1;32m   2837\u001b[0m     \u001b[38;5;28;01mdef\u001b[39;00m \u001b[38;5;21mformat_cache_file_name\u001b[39m(cache_file_name, rank):\n",
      "File \u001b[0;32m~/.conda/envs/pre_train/lib/python3.8/site-packages/datasets/arrow_dataset.py:546\u001b[0m, in \u001b[0;36mtransmit_tasks.<locals>.wrapper\u001b[0;34m(*args, **kwargs)\u001b[0m\n\u001b[1;32m    544\u001b[0m     \u001b[38;5;28mself\u001b[39m: \u001b[38;5;124m\"\u001b[39m\u001b[38;5;124mDataset\u001b[39m\u001b[38;5;124m\"\u001b[39m \u001b[38;5;241m=\u001b[39m kwargs\u001b[38;5;241m.\u001b[39mpop(\u001b[38;5;124m\"\u001b[39m\u001b[38;5;124mself\u001b[39m\u001b[38;5;124m\"\u001b[39m)\n\u001b[1;32m    545\u001b[0m \u001b[38;5;66;03m# apply actual function\u001b[39;00m\n\u001b[0;32m--> 546\u001b[0m out: Union[\u001b[38;5;124m\"\u001b[39m\u001b[38;5;124mDataset\u001b[39m\u001b[38;5;124m\"\u001b[39m, \u001b[38;5;124m\"\u001b[39m\u001b[38;5;124mDatasetDict\u001b[39m\u001b[38;5;124m\"\u001b[39m] \u001b[38;5;241m=\u001b[39m \u001b[43mfunc\u001b[49m\u001b[43m(\u001b[49m\u001b[38;5;28;43mself\u001b[39;49m\u001b[43m,\u001b[49m\u001b[43m \u001b[49m\u001b[38;5;241;43m*\u001b[39;49m\u001b[43margs\u001b[49m\u001b[43m,\u001b[49m\u001b[43m \u001b[49m\u001b[38;5;241;43m*\u001b[39;49m\u001b[38;5;241;43m*\u001b[39;49m\u001b[43mkwargs\u001b[49m\u001b[43m)\u001b[49m\n\u001b[1;32m    547\u001b[0m datasets: List[\u001b[38;5;124m\"\u001b[39m\u001b[38;5;124mDataset\u001b[39m\u001b[38;5;124m\"\u001b[39m] \u001b[38;5;241m=\u001b[39m \u001b[38;5;28mlist\u001b[39m(out\u001b[38;5;241m.\u001b[39mvalues()) \u001b[38;5;28;01mif\u001b[39;00m \u001b[38;5;28misinstance\u001b[39m(out, \u001b[38;5;28mdict\u001b[39m) \u001b[38;5;28;01melse\u001b[39;00m [out]\n\u001b[1;32m    548\u001b[0m \u001b[38;5;28;01mfor\u001b[39;00m dataset \u001b[38;5;129;01min\u001b[39;00m datasets:\n\u001b[1;32m    549\u001b[0m     \u001b[38;5;66;03m# Remove task templates if a column mapping of the template is no longer valid\u001b[39;00m\n",
      "File \u001b[0;32m~/.conda/envs/pre_train/lib/python3.8/site-packages/datasets/arrow_dataset.py:513\u001b[0m, in \u001b[0;36mtransmit_format.<locals>.wrapper\u001b[0;34m(*args, **kwargs)\u001b[0m\n\u001b[1;32m    506\u001b[0m self_format \u001b[38;5;241m=\u001b[39m {\n\u001b[1;32m    507\u001b[0m     \u001b[38;5;124m\"\u001b[39m\u001b[38;5;124mtype\u001b[39m\u001b[38;5;124m\"\u001b[39m: \u001b[38;5;28mself\u001b[39m\u001b[38;5;241m.\u001b[39m_format_type,\n\u001b[1;32m    508\u001b[0m     \u001b[38;5;124m\"\u001b[39m\u001b[38;5;124mformat_kwargs\u001b[39m\u001b[38;5;124m\"\u001b[39m: \u001b[38;5;28mself\u001b[39m\u001b[38;5;241m.\u001b[39m_format_kwargs,\n\u001b[1;32m    509\u001b[0m     \u001b[38;5;124m\"\u001b[39m\u001b[38;5;124mcolumns\u001b[39m\u001b[38;5;124m\"\u001b[39m: \u001b[38;5;28mself\u001b[39m\u001b[38;5;241m.\u001b[39m_format_columns,\n\u001b[1;32m    510\u001b[0m     \u001b[38;5;124m\"\u001b[39m\u001b[38;5;124moutput_all_columns\u001b[39m\u001b[38;5;124m\"\u001b[39m: \u001b[38;5;28mself\u001b[39m\u001b[38;5;241m.\u001b[39m_output_all_columns,\n\u001b[1;32m    511\u001b[0m }\n\u001b[1;32m    512\u001b[0m \u001b[38;5;66;03m# apply actual function\u001b[39;00m\n\u001b[0;32m--> 513\u001b[0m out: Union[\u001b[38;5;124m\"\u001b[39m\u001b[38;5;124mDataset\u001b[39m\u001b[38;5;124m\"\u001b[39m, \u001b[38;5;124m\"\u001b[39m\u001b[38;5;124mDatasetDict\u001b[39m\u001b[38;5;124m\"\u001b[39m] \u001b[38;5;241m=\u001b[39m \u001b[43mfunc\u001b[49m\u001b[43m(\u001b[49m\u001b[38;5;28;43mself\u001b[39;49m\u001b[43m,\u001b[49m\u001b[43m \u001b[49m\u001b[38;5;241;43m*\u001b[39;49m\u001b[43margs\u001b[49m\u001b[43m,\u001b[49m\u001b[43m \u001b[49m\u001b[38;5;241;43m*\u001b[39;49m\u001b[38;5;241;43m*\u001b[39;49m\u001b[43mkwargs\u001b[49m\u001b[43m)\u001b[49m\n\u001b[1;32m    514\u001b[0m datasets: List[\u001b[38;5;124m\"\u001b[39m\u001b[38;5;124mDataset\u001b[39m\u001b[38;5;124m\"\u001b[39m] \u001b[38;5;241m=\u001b[39m \u001b[38;5;28mlist\u001b[39m(out\u001b[38;5;241m.\u001b[39mvalues()) \u001b[38;5;28;01mif\u001b[39;00m \u001b[38;5;28misinstance\u001b[39m(out, \u001b[38;5;28mdict\u001b[39m) \u001b[38;5;28;01melse\u001b[39;00m [out]\n\u001b[1;32m    515\u001b[0m \u001b[38;5;66;03m# re-apply format to the output\u001b[39;00m\n",
      "File \u001b[0;32m~/.conda/envs/pre_train/lib/python3.8/site-packages/datasets/fingerprint.py:480\u001b[0m, in \u001b[0;36mfingerprint_transform.<locals>._fingerprint.<locals>.wrapper\u001b[0;34m(*args, **kwargs)\u001b[0m\n\u001b[1;32m    476\u001b[0m             validate_fingerprint(kwargs[fingerprint_name])\n\u001b[1;32m    478\u001b[0m \u001b[38;5;66;03m# Call actual function\u001b[39;00m\n\u001b[0;32m--> 480\u001b[0m out \u001b[38;5;241m=\u001b[39m \u001b[43mfunc\u001b[49m\u001b[43m(\u001b[49m\u001b[38;5;28;43mself\u001b[39;49m\u001b[43m,\u001b[49m\u001b[43m \u001b[49m\u001b[38;5;241;43m*\u001b[39;49m\u001b[43margs\u001b[49m\u001b[43m,\u001b[49m\u001b[43m \u001b[49m\u001b[38;5;241;43m*\u001b[39;49m\u001b[38;5;241;43m*\u001b[39;49m\u001b[43mkwargs\u001b[49m\u001b[43m)\u001b[49m\n\u001b[1;32m    482\u001b[0m \u001b[38;5;66;03m# Update fingerprint of in-place transforms + update in-place history of transforms\u001b[39;00m\n\u001b[1;32m    484\u001b[0m \u001b[38;5;28;01mif\u001b[39;00m inplace:  \u001b[38;5;66;03m# update after calling func so that the fingerprint doesn't change if the function fails\u001b[39;00m\n",
      "File \u001b[0;32m~/.conda/envs/pre_train/lib/python3.8/site-packages/datasets/arrow_dataset.py:3236\u001b[0m, in \u001b[0;36mDataset._map_single\u001b[0;34m(self, function, with_indices, with_rank, input_columns, batched, batch_size, drop_last_batch, remove_columns, keep_in_memory, load_from_cache_file, cache_file_name, writer_batch_size, features, disable_nullable, fn_kwargs, new_fingerprint, rank, offset, disable_tqdm, desc, cache_only)\u001b[0m\n\u001b[1;32m   3232\u001b[0m indices \u001b[38;5;241m=\u001b[39m \u001b[38;5;28mlist\u001b[39m(\n\u001b[1;32m   3233\u001b[0m     \u001b[38;5;28mrange\u001b[39m(\u001b[38;5;241m*\u001b[39m(\u001b[38;5;28mslice\u001b[39m(i, i \u001b[38;5;241m+\u001b[39m batch_size)\u001b[38;5;241m.\u001b[39mindices(input_dataset\u001b[38;5;241m.\u001b[39mnum_rows)))\n\u001b[1;32m   3234\u001b[0m )  \u001b[38;5;66;03m# Something simpler?\u001b[39;00m\n\u001b[1;32m   3235\u001b[0m \u001b[38;5;28;01mtry\u001b[39;00m:\n\u001b[0;32m-> 3236\u001b[0m     batch \u001b[38;5;241m=\u001b[39m \u001b[43mapply_function_on_filtered_inputs\u001b[49m\u001b[43m(\u001b[49m\n\u001b[1;32m   3237\u001b[0m \u001b[43m        \u001b[49m\u001b[43mbatch\u001b[49m\u001b[43m,\u001b[49m\n\u001b[1;32m   3238\u001b[0m \u001b[43m        \u001b[49m\u001b[43mindices\u001b[49m\u001b[43m,\u001b[49m\n\u001b[1;32m   3239\u001b[0m \u001b[43m        \u001b[49m\u001b[43mcheck_same_num_examples\u001b[49m\u001b[38;5;241;43m=\u001b[39;49m\u001b[38;5;28;43mlen\u001b[39;49m\u001b[43m(\u001b[49m\u001b[43minput_dataset\u001b[49m\u001b[38;5;241;43m.\u001b[39;49m\u001b[43mlist_indexes\u001b[49m\u001b[43m(\u001b[49m\u001b[43m)\u001b[49m\u001b[43m)\u001b[49m\u001b[43m \u001b[49m\u001b[38;5;241;43m>\u001b[39;49m\u001b[43m \u001b[49m\u001b[38;5;241;43m0\u001b[39;49m\u001b[43m,\u001b[49m\n\u001b[1;32m   3240\u001b[0m \u001b[43m        \u001b[49m\u001b[43moffset\u001b[49m\u001b[38;5;241;43m=\u001b[39;49m\u001b[43moffset\u001b[49m\u001b[43m,\u001b[49m\n\u001b[1;32m   3241\u001b[0m \u001b[43m    \u001b[49m\u001b[43m)\u001b[49m\n\u001b[1;32m   3242\u001b[0m \u001b[38;5;28;01mexcept\u001b[39;00m NumExamplesMismatchError:\n\u001b[1;32m   3243\u001b[0m     \u001b[38;5;28;01mraise\u001b[39;00m DatasetTransformationNotAllowedError(\n\u001b[1;32m   3244\u001b[0m         \u001b[38;5;124m\"\u001b[39m\u001b[38;5;124mUsing `.map` in batched mode on a dataset with attached indexes is allowed only if it doesn\u001b[39m\u001b[38;5;124m'\u001b[39m\u001b[38;5;124mt create or remove existing examples. You can first run `.drop_index() to remove your index and then re-add it.\u001b[39m\u001b[38;5;124m\"\u001b[39m\n\u001b[1;32m   3245\u001b[0m     ) \u001b[38;5;28;01mfrom\u001b[39;00m \u001b[38;5;28mNone\u001b[39m\n",
      "File \u001b[0;32m~/.conda/envs/pre_train/lib/python3.8/site-packages/datasets/arrow_dataset.py:3112\u001b[0m, in \u001b[0;36mDataset._map_single.<locals>.apply_function_on_filtered_inputs\u001b[0;34m(pa_inputs, indices, check_same_num_examples, offset)\u001b[0m\n\u001b[1;32m   3110\u001b[0m \u001b[38;5;28;01mif\u001b[39;00m with_rank:\n\u001b[1;32m   3111\u001b[0m     additional_args \u001b[38;5;241m+\u001b[39m\u001b[38;5;241m=\u001b[39m (rank,)\n\u001b[0;32m-> 3112\u001b[0m processed_inputs \u001b[38;5;241m=\u001b[39m \u001b[43mfunction\u001b[49m\u001b[43m(\u001b[49m\u001b[38;5;241;43m*\u001b[39;49m\u001b[43mfn_args\u001b[49m\u001b[43m,\u001b[49m\u001b[43m \u001b[49m\u001b[38;5;241;43m*\u001b[39;49m\u001b[43madditional_args\u001b[49m\u001b[43m,\u001b[49m\u001b[43m \u001b[49m\u001b[38;5;241;43m*\u001b[39;49m\u001b[38;5;241;43m*\u001b[39;49m\u001b[43mfn_kwargs\u001b[49m\u001b[43m)\u001b[49m\n\u001b[1;32m   3113\u001b[0m \u001b[38;5;28;01mif\u001b[39;00m \u001b[38;5;28misinstance\u001b[39m(processed_inputs, LazyDict):\n\u001b[1;32m   3114\u001b[0m     processed_inputs \u001b[38;5;241m=\u001b[39m {\n\u001b[1;32m   3115\u001b[0m         k: v \u001b[38;5;28;01mfor\u001b[39;00m k, v \u001b[38;5;129;01min\u001b[39;00m processed_inputs\u001b[38;5;241m.\u001b[39mdata\u001b[38;5;241m.\u001b[39mitems() \u001b[38;5;28;01mif\u001b[39;00m k \u001b[38;5;129;01mnot\u001b[39;00m \u001b[38;5;129;01min\u001b[39;00m processed_inputs\u001b[38;5;241m.\u001b[39mkeys_to_format\n\u001b[1;32m   3116\u001b[0m     }\n",
      "Cell \u001b[0;32mIn [36], line 17\u001b[0m, in \u001b[0;36mpreprocess\u001b[0;34m(row_datas)\u001b[0m\n\u001b[1;32m     15\u001b[0m lm_labels[input_text[\u001b[38;5;124m\"\u001b[39m\u001b[38;5;124minput_ids\u001b[39m\u001b[38;5;124m\"\u001b[39m][:,\u001b[38;5;241m1\u001b[39m:] \u001b[38;5;241m==\u001b[39m tokenizer\u001b[38;5;241m.\u001b[39mpad_token_id] \u001b[38;5;241m=\u001b[39m \u001b[38;5;241m-\u001b[39m\u001b[38;5;241m100\u001b[39m\n\u001b[1;32m     16\u001b[0m \u001b[38;5;28mprint\u001b[39m(lm_labels)\n\u001b[0;32m---> 17\u001b[0m \u001b[38;5;28mprint\u001b[39m(\u001b[43masdfsfd\u001b[49m)\n\u001b[1;32m     18\u001b[0m \u001b[38;5;28;01mreturn\u001b[39;00m {\u001b[38;5;241m*\u001b[39m\u001b[38;5;241m*\u001b[39minput_text, \u001b[38;5;124m\"\u001b[39m\u001b[38;5;124mlabels\u001b[39m\u001b[38;5;124m\"\u001b[39m: ret_labels}\n",
      "\u001b[0;31mNameError\u001b[0m: name 'asdfsfd' is not defined"
     ]
    }
   ],
   "source": [
    "import torch\n",
    "def preprocess(row_datas):\n",
    "    input_texts = []\n",
    "    labels = []\n",
    "    input_text = tokenizer(\n",
    "        row_datas[\"context\"],\n",
    "        max_length=128,\n",
    "        return_tensors=\"pt\",\n",
    "        padding=\"max_length\",\n",
    "        truncation=True,\n",
    "    )\n",
    "    print(input_text)\n",
    "    lm_labels = input_text[\"input_ids\"]\n",
    "    lm_labels = lm_labels[:, 1:]\n",
    "    lm_labels[input_text[\"input_ids\"][:,1:] == tokenizer.pad_token_id] = -100\n",
    "    print(lm_labels)\n",
    "    print(asdfsfd)\n",
    "    return {**input_text, \"labels\": ret_labels}\n",
    "\n",
    "dataset = dataset.select(range(8))\n",
    "\n",
    "dataset = dataset.map(\n",
    "    preprocess,\n",
    "    batched=True,\n",
    "    batch_size=2,\n",
    "    remove_columns=[\"id\", \"title\", \"context\", \"question\", \"answers\"],\n",
    ").with_format(\"torch\")"
   ]
  },
  {
   "cell_type": "code",
   "execution_count": 16,
   "id": "afee1565-e5fc-4a83-90b7-84a9a7cfaa5d",
   "metadata": {
    "execution": {
     "iopub.execute_input": "2023-06-06T06:47:32.608397Z",
     "iopub.status.busy": "2023-06-06T06:47:32.607492Z",
     "iopub.status.idle": "2023-06-06T06:47:32.617264Z",
     "shell.execute_reply": "2023-06-06T06:47:32.616364Z",
     "shell.execute_reply.started": "2023-06-06T06:47:32.608341Z"
    }
   },
   "outputs": [
    {
     "data": {
      "text/plain": [
       "Dataset({\n",
       "    features: ['guid', 'input_ids', 'token_type_ids', 'attention_mask', 'labels'],\n",
       "    num_rows: 8\n",
       "})"
      ]
     },
     "execution_count": 16,
     "metadata": {},
     "output_type": "execute_result"
    }
   ],
   "source": [
    "dataset"
   ]
  },
  {
   "cell_type": "code",
   "execution_count": 2,
   "id": "7e5b8fad-7e45-440f-937a-14a7e084ccdd",
   "metadata": {
    "execution": {
     "iopub.execute_input": "2023-06-06T07:13:36.535481Z",
     "iopub.status.busy": "2023-06-06T07:13:36.534695Z",
     "iopub.status.idle": "2023-06-06T07:13:37.461761Z",
     "shell.execute_reply": "2023-06-06T07:13:37.460744Z",
     "shell.execute_reply.started": "2023-06-06T07:13:36.535423Z"
    },
    "tags": []
   },
   "outputs": [],
   "source": [
    "from datasets import load_dataset\n",
    "\n",
    "# datasets = load_dataset(\"squad\", split=\"train\")"
   ]
  },
  {
   "cell_type": "code",
   "execution_count": 3,
   "id": "77cdda16-48b3-423b-85c7-530125b43df0",
   "metadata": {
    "execution": {
     "iopub.execute_input": "2023-06-06T07:13:37.463836Z",
     "iopub.status.busy": "2023-06-06T07:13:37.463429Z",
     "iopub.status.idle": "2023-06-06T07:13:47.071717Z",
     "shell.execute_reply": "2023-06-06T07:13:47.070890Z",
     "shell.execute_reply.started": "2023-06-06T07:13:37.463811Z"
    },
    "tags": []
   },
   "outputs": [
    {
     "name": "stderr",
     "output_type": "stream",
     "text": [
      "Found cached dataset wikitext (/root/.cache/huggingface/datasets/wikitext/wikitext-2-raw-v1/1.0.0/a241db52902eaf2c6aa732210bead40c090019a499ceb13bcbfa3f8ab646a126)\n"
     ]
    },
    {
     "data": {
      "text/plain": [
       "36718"
      ]
     },
     "execution_count": 3,
     "metadata": {},
     "output_type": "execute_result"
    }
   ],
   "source": [
    "dataset = load_dataset(\"wikitext\", \"wikitext-2-raw-v1\",split=\"train\")\n",
    "len(dataset)"
   ]
  },
  {
   "cell_type": "code",
   "execution_count": 30,
   "id": "6ea502cf-b3fd-4332-ab47-c69a1f7c970e",
   "metadata": {
    "execution": {
     "iopub.execute_input": "2023-06-06T06:58:43.184180Z",
     "iopub.status.busy": "2023-06-06T06:58:43.183342Z",
     "iopub.status.idle": "2023-06-06T06:58:43.197272Z",
     "shell.execute_reply": "2023-06-06T06:58:43.196368Z",
     "shell.execute_reply.started": "2023-06-06T06:58:43.184111Z"
    },
    "tags": []
   },
   "outputs": [
    {
     "data": {
      "text/plain": [
       "{'text': ['',\n",
       "  ' = Valkyria Chronicles III = \\n',\n",
       "  '',\n",
       "  ' Senjō no Valkyria 3 : Unrecorded Chronicles ( Japanese : 戦場のヴァルキュリア3 , lit . Valkyria of the Battlefield 3 ) , commonly referred to as Valkyria Chronicles III outside Japan , is a tactical role @-@ playing video game developed by Sega and Media.Vision for the PlayStation Portable . Released in January 2011 in Japan , it is the third game in the Valkyria series . Employing the same fusion of tactical and real @-@ time gameplay as its predecessors , the story runs parallel to the first game and follows the \" Nameless \" , a penal military unit serving the nation of Gallia during the Second Europan War who perform secret black operations and are pitted against the Imperial unit \" Calamaty Raven \" . \\n',\n",
       "  \" The game began development in 2010 , carrying over a large portion of the work done on Valkyria Chronicles II . While it retained the standard features of the series , it also underwent multiple adjustments , such as making the game more forgiving for series newcomers . Character designer Raita Honjou and composer Hitoshi Sakimoto both returned from previous entries , along with Valkyria Chronicles II director Takeshi Ozawa . A large team of writers handled the script . The game 's opening theme was sung by May 'n . \\n\"]}"
      ]
     },
     "execution_count": 30,
     "metadata": {},
     "output_type": "execute_result"
    }
   ],
   "source": [
    "dataset = dataset.select(range(10))\n",
    "dataset[:5]"
   ]
  },
  {
   "cell_type": "code",
   "execution_count": 3,
   "id": "618289d2-e99e-4844-a827-43c563759ceb",
   "metadata": {
    "execution": {
     "iopub.execute_input": "2023-06-06T06:39:01.517775Z",
     "iopub.status.busy": "2023-06-06T06:39:01.517041Z",
     "iopub.status.idle": "2023-06-06T06:39:01.763996Z",
     "shell.execute_reply": "2023-06-06T06:39:01.762915Z",
     "shell.execute_reply.started": "2023-06-06T06:39:01.517741Z"
    },
    "tags": []
   },
   "outputs": [
    {
     "ename": "AttributeError",
     "evalue": "'DatasetDict' object has no attribute 'select'",
     "output_type": "error",
     "traceback": [
      "\u001b[0;31m---------------------------------------------------------------------------\u001b[0m",
      "\u001b[0;31mAttributeError\u001b[0m                            Traceback (most recent call last)",
      "Cell \u001b[0;32mIn [3], line 1\u001b[0m\n\u001b[0;32m----> 1\u001b[0m \u001b[43mdatasets\u001b[49m\u001b[38;5;241;43m.\u001b[39;49m\u001b[43mselect\u001b[49m()\n",
      "\u001b[0;31mAttributeError\u001b[0m: 'DatasetDict' object has no attribute 'select'"
     ]
    }
   ],
   "source": [
    "datasets.select(range())"
   ]
  },
  {
   "cell_type": "code",
   "execution_count": 21,
   "id": "39417f43-decf-4066-911c-d088d1eaf6c2",
   "metadata": {
    "execution": {
     "iopub.execute_input": "2023-06-02T15:03:19.463994Z",
     "iopub.status.busy": "2023-06-02T15:03:19.463450Z",
     "iopub.status.idle": "2023-06-02T15:03:19.470892Z",
     "shell.execute_reply": "2023-06-02T15:03:19.470178Z",
     "shell.execute_reply.started": "2023-06-02T15:03:19.463967Z"
    },
    "tags": []
   },
   "outputs": [
    {
     "data": {
      "text/plain": [
       "[<pyarrow.lib.ChunkedArray object at 0x7f6fa05df950>\n",
       " [\n",
       "   [\n",
       "     \"5733be284776f41900661182\",\n",
       "     \"5733be284776f4190066117f\",\n",
       "     \"5733be284776f41900661180\",\n",
       "     \"5733be284776f41900661181\",\n",
       "     \"5733be284776f4190066117e\",\n",
       "     ...\n",
       "     \"56d4f71e2ccc5a1400d833aa\",\n",
       "     \"56bed4553aeaaa14008c94e5\",\n",
       "     \"56bed4553aeaaa14008c94e7\",\n",
       "     \"56bed4553aeaaa14008c94e8\",\n",
       "     \"56bfe7eaa10cfb1400551387\"\n",
       "   ],\n",
       "   [\n",
       "     \"56bfe7eaa10cfb1400551389\",\n",
       "     \"56bfe7eaa10cfb140055138a\",\n",
       "     \"56d4f7a22ccc5a1400d833ae\",\n",
       "     \"56d4f7a22ccc5a1400d833b0\",\n",
       "     \"56d4f7a22ccc5a1400d833b1\",\n",
       "     ...\n",
       "     \"56d381b459d6e41400146594\",\n",
       "     \"56d381b459d6e41400146595\",\n",
       "     \"56cfe911234ae51400d9c085\",\n",
       "     \"56cfe911234ae51400d9c086\",\n",
       "     \"56d3823659d6e414001465b6\"\n",
       "   ],\n",
       " ...,\n",
       "   [\n",
       "     \"5732868bb3a91d1900202e10\",\n",
       "     \"5732868bb3a91d1900202e11\",\n",
       "     \"5732868bb3a91d1900202e12\",\n",
       "     \"5732868bb3a91d1900202e13\",\n",
       "     \"57324f18b9d445190005ea1b\",\n",
       "     ...\n",
       "     \"5735e8246c16ec1900b92883\",\n",
       "     \"5735e8246c16ec1900b92884\",\n",
       "     \"5734465d879d6814001ca463\",\n",
       "     \"5734465d879d6814001ca464\",\n",
       "     \"5734465d879d6814001ca465\"\n",
       "   ],\n",
       "   [\n",
       "     \"5734465d879d6814001ca466\",\n",
       "     \"5735e8736c16ec1900b92888\",\n",
       "     \"5735e8736c16ec1900b92889\",\n",
       "     \"5735e8736c16ec1900b9288a\",\n",
       "     \"5734477e879d6814001ca46b\",\n",
       "     ...\n",
       "     \"5735d259012e2f140011a09d\",\n",
       "     \"5735d259012e2f140011a09e\",\n",
       "     \"5735d259012e2f140011a09f\",\n",
       "     \"5735d259012e2f140011a0a0\",\n",
       "     \"5735d259012e2f140011a0a1\"\n",
       "   ]\n",
       " ],\n",
       " <pyarrow.lib.ChunkedArray object at 0x7f6fa05df3b0>\n",
       " [\n",
       "   [\n",
       "     \"University_of_Notre_Dame\",\n",
       "     \"University_of_Notre_Dame\",\n",
       "     \"University_of_Notre_Dame\",\n",
       "     \"University_of_Notre_Dame\",\n",
       "     \"University_of_Notre_Dame\",\n",
       "     ...\n",
       "     \"Beyoncé\",\n",
       "     \"Beyoncé\",\n",
       "     \"Beyoncé\",\n",
       "     \"Beyoncé\",\n",
       "     \"Beyoncé\"\n",
       "   ],\n",
       "   [\n",
       "     \"Beyoncé\",\n",
       "     \"Beyoncé\",\n",
       "     \"Beyoncé\",\n",
       "     \"Beyoncé\",\n",
       "     \"Beyoncé\",\n",
       "     ...\n",
       "     \"Frédéric_Chopin\",\n",
       "     \"Frédéric_Chopin\",\n",
       "     \"Frédéric_Chopin\",\n",
       "     \"Frédéric_Chopin\",\n",
       "     \"Frédéric_Chopin\"\n",
       "   ],\n",
       " ...,\n",
       "   [\n",
       "     \"Dwight_D._Eisenhower\",\n",
       "     \"Dwight_D._Eisenhower\",\n",
       "     \"Dwight_D._Eisenhower\",\n",
       "     \"Dwight_D._Eisenhower\",\n",
       "     \"The_Bronx\",\n",
       "     ...\n",
       "     \"Hunting\",\n",
       "     \"Hunting\",\n",
       "     \"Hunting\",\n",
       "     \"Hunting\",\n",
       "     \"Hunting\"\n",
       "   ],\n",
       "   [\n",
       "     \"Hunting\",\n",
       "     \"Hunting\",\n",
       "     \"Hunting\",\n",
       "     \"Hunting\",\n",
       "     \"Hunting\",\n",
       "     ...\n",
       "     \"Kathmandu\",\n",
       "     \"Kathmandu\",\n",
       "     \"Kathmandu\",\n",
       "     \"Kathmandu\",\n",
       "     \"Kathmandu\"\n",
       "   ]\n",
       " ],\n",
       " <pyarrow.lib.ChunkedArray object at 0x7f6fa0e02270>\n",
       " [\n",
       "   [\n",
       "     \"Architecturally, the school has a Catholic character. Atop the Main Building's gold dome is a golden statue of the Virgin Mary. Immediately in front of the Main Building and facing it, is a copper statue of Christ with arms upraised with the legend \"Venite Ad Me Omnes\". Next to the Main Building is the Basilica of the Sacred Heart. Immediately behind the basilica is the Grotto, a Marian place of prayer and reflection. It is a replica of the grotto at Lourdes, France where the Virgin Mary reputedly appeared to Saint Bernadette Soubirous in 1858. At the end of the main drive (and in a direct line that connects through 3 statues and the Gold Dome), is a simple, modern stone statue of Mary.\",\n",
       "     \"Architecturally, the school has a Catholic character. Atop the Main Building's gold dome is a golden statue of the Virgin Mary. Immediately in front of the Main Building and facing it, is a copper statue of Christ with arms upraised with the legend \"Venite Ad Me Omnes\". Next to the Main Building is the Basilica of the Sacred Heart. Immediately behind the basilica is the Grotto, a Marian place of prayer and reflection. It is a replica of the grotto at Lourdes, France where the Virgin Mary reputedly appeared to Saint Bernadette Soubirous in 1858. At the end of the main drive (and in a direct line that connects through 3 statues and the Gold Dome), is a simple, modern stone statue of Mary.\",\n",
       "     \"Architecturally, the school has a Catholic character. Atop the Main Building's gold dome is a golden statue of the Virgin Mary. Immediately in front of the Main Building and facing it, is a copper statue of Christ with arms upraised with the legend \"Venite Ad Me Omnes\". Next to the Main Building is the Basilica of the Sacred Heart. Immediately behind the basilica is the Grotto, a Marian place of prayer and reflection. It is a replica of the grotto at Lourdes, France where the Virgin Mary reputedly appeared to Saint Bernadette Soubirous in 1858. At the end of the main drive (and in a direct line that connects through 3 statues and the Gold Dome), is a simple, modern stone statue of Mary.\",\n",
       "     \"Architecturally, the school has a Catholic character. Atop the Main Building's gold dome is a golden statue of the Virgin Mary. Immediately in front of the Main Building and facing it, is a copper statue of Christ with arms upraised with the legend \"Venite Ad Me Omnes\". Next to the Main Building is the Basilica of the Sacred Heart. Immediately behind the basilica is the Grotto, a Marian place of prayer and reflection. It is a replica of the grotto at Lourdes, France where the Virgin Mary reputedly appeared to Saint Bernadette Soubirous in 1858. At the end of the main drive (and in a direct line that connects through 3 statues and the Gold Dome), is a simple, modern stone statue of Mary.\",\n",
       "     \"Architecturally, the school has a Catholic character. Atop the Main Building's gold dome is a golden statue of the Virgin Mary. Immediately in front of the Main Building and facing it, is a copper statue of Christ with arms upraised with the legend \"Venite Ad Me Omnes\". Next to the Main Building is the Basilica of the Sacred Heart. Immediately behind the basilica is the Grotto, a Marian place of prayer and reflection. It is a replica of the grotto at Lourdes, France where the Virgin Mary reputedly appeared to Saint Bernadette Soubirous in 1858. At the end of the main drive (and in a direct line that connects through 3 statues and the Gold Dome), is a simple, modern stone statue of Mary.\",\n",
       "     ...\n",
       "     \"In October 2014, Beyoncé signed a deal to launch an activewear line of clothing with British fashion retailer Topshop. The 50-50 venture is called Parkwood Topshop Athletic Ltd and is scheduled to launch its first dance, fitness and sports ranges in autumn 2015. The line will launch in April 2016.\",\n",
       "     \"After Hurricane Katrina in 2005, Beyoncé and Rowland founded the Survivor Foundation to provide transitional housing for victims in the Houston area, to which Beyoncé contributed an initial $250,000. The foundation has since expanded to work with other charities in the city, and also provided relief following Hurricane Ike three years later.\",\n",
       "     \"After Hurricane Katrina in 2005, Beyoncé and Rowland founded the Survivor Foundation to provide transitional housing for victims in the Houston area, to which Beyoncé contributed an initial $250,000. The foundation has since expanded to work with other charities in the city, and also provided relief following Hurricane Ike three years later.\",\n",
       "     \"After Hurricane Katrina in 2005, Beyoncé and Rowland founded the Survivor Foundation to provide transitional housing for victims in the Houston area, to which Beyoncé contributed an initial $250,000. The foundation has since expanded to work with other charities in the city, and also provided relief following Hurricane Ike three years later.\",\n",
       "     \"After Hurricane Katrina in 2005, Beyoncé and Rowland founded the Survivor Foundation to provide transitional housing for victims in the Houston area, to which Beyoncé contributed an initial $250,000. The foundation has since expanded to work with other charities in the city, and also provided relief following Hurricane Ike three years later.\"\n",
       "   ],\n",
       "   [\n",
       "     \"After Hurricane Katrina in 2005, Beyoncé and Rowland founded the Survivor Foundation to provide transitional housing for victims in the Houston area, to which Beyoncé contributed an initial $250,000. The foundation has since expanded to work with other charities in the city, and also provided relief following Hurricane Ike three years later.\",\n",
       "     \"After Hurricane Katrina in 2005, Beyoncé and Rowland founded the Survivor Foundation to provide transitional housing for victims in the Houston area, to which Beyoncé contributed an initial $250,000. The foundation has since expanded to work with other charities in the city, and also provided relief following Hurricane Ike three years later.\",\n",
       "     \"After Hurricane Katrina in 2005, Beyoncé and Rowland founded the Survivor Foundation to provide transitional housing for victims in the Houston area, to which Beyoncé contributed an initial $250,000. The foundation has since expanded to work with other charities in the city, and also provided relief following Hurricane Ike three years later.\",\n",
       "     \"After Hurricane Katrina in 2005, Beyoncé and Rowland founded the Survivor Foundation to provide transitional housing for victims in the Houston area, to which Beyoncé contributed an initial $250,000. The foundation has since expanded to work with other charities in the city, and also provided relief following Hurricane Ike three years later.\",\n",
       "     \"After Hurricane Katrina in 2005, Beyoncé and Rowland founded the Survivor Foundation to provide transitional housing for victims in the Houston area, to which Beyoncé contributed an initial $250,000. The foundation has since expanded to work with other charities in the city, and also provided relief following Hurricane Ike three years later.\",\n",
       "     ...\n",
       "     \"At the end of November, Chopin returned to Paris. He passed the winter in unremitting illness, but gave occasional lessons and was visited by friends, including Delacroix and Franchomme. Occasionally he played, or accompanied the singing of Delfina Potocka, for his friends. During the summer of 1849, his friends found him an apartment in Chaillot, out of the centre of the city, for which the rent was secretly subsidised by an admirer, Princess Obreskoff. Here in June 1849 he was visited by Jenny Lind.\",\n",
       "     \"At the end of November, Chopin returned to Paris. He passed the winter in unremitting illness, but gave occasional lessons and was visited by friends, including Delacroix and Franchomme. Occasionally he played, or accompanied the singing of Delfina Potocka, for his friends. During the summer of 1849, his friends found him an apartment in Chaillot, out of the centre of the city, for which the rent was secretly subsidised by an admirer, Princess Obreskoff. Here in June 1849 he was visited by Jenny Lind.\",\n",
       "     \"With his health further deteriorating, Chopin desired to have a family member with him. In June 1849 his sister Ludwika came to Paris with her husband and daughter, and in September, supported by a loan from Jane Stirling, he took an apartment at Place Vendôme 12. After 15 October, when his condition took a marked turn for the worse, only a handful of his closest friends remained with him, although Viardot remarked sardonically that \"all the grand Parisian ladies considered it de rigueur to faint in his room.\"\",\n",
       "     \"With his health further deteriorating, Chopin desired to have a family member with him. In June 1849 his sister Ludwika came to Paris with her husband and daughter, and in September, supported by a loan from Jane Stirling, he took an apartment at Place Vendôme 12. After 15 October, when his condition took a marked turn for the worse, only a handful of his closest friends remained with him, although Viardot remarked sardonically that \"all the grand Parisian ladies considered it de rigueur to faint in his room.\"\",\n",
       "     \"With his health further deteriorating, Chopin desired to have a family member with him. In June 1849 his sister Ludwika came to Paris with her husband and daughter, and in September, supported by a loan from Jane Stirling, he took an apartment at Place Vendôme 12. After 15 October, when his condition took a marked turn for the worse, only a handful of his closest friends remained with him, although Viardot remarked sardonically that \"all the grand Parisian ladies considered it de rigueur to faint in his room.\"\"\n",
       "   ],\n",
       " ...,\n",
       "   [\n",
       "     \"A loblolly pine, known as the \"Eisenhower Pine\", was located on Augusta's 17th hole, approximately 210 yards (192 m) from the Masters tee. President Dwight D. Eisenhower, an Augusta National member, hit the tree so many times that, at a 1956 club meeting, he proposed that it be cut down. Not wanting to offend the president, the club's chairman, Clifford Roberts, immediately adjourned the meeting rather than reject the request. The tree was removed in February 2014 after an ice storm caused it significant damage.\",\n",
       "     \"A loblolly pine, known as the \"Eisenhower Pine\", was located on Augusta's 17th hole, approximately 210 yards (192 m) from the Masters tee. President Dwight D. Eisenhower, an Augusta National member, hit the tree so many times that, at a 1956 club meeting, he proposed that it be cut down. Not wanting to offend the president, the club's chairman, Clifford Roberts, immediately adjourned the meeting rather than reject the request. The tree was removed in February 2014 after an ice storm caused it significant damage.\",\n",
       "     \"A loblolly pine, known as the \"Eisenhower Pine\", was located on Augusta's 17th hole, approximately 210 yards (192 m) from the Masters tee. President Dwight D. Eisenhower, an Augusta National member, hit the tree so many times that, at a 1956 club meeting, he proposed that it be cut down. Not wanting to offend the president, the club's chairman, Clifford Roberts, immediately adjourned the meeting rather than reject the request. The tree was removed in February 2014 after an ice storm caused it significant damage.\",\n",
       "     \"A loblolly pine, known as the \"Eisenhower Pine\", was located on Augusta's 17th hole, approximately 210 yards (192 m) from the Masters tee. President Dwight D. Eisenhower, an Augusta National member, hit the tree so many times that, at a 1956 club meeting, he proposed that it be cut down. Not wanting to offend the president, the club's chairman, Clifford Roberts, immediately adjourned the meeting rather than reject the request. The tree was removed in February 2014 after an ice storm caused it significant damage.\",\n",
       "     \"The Bronx /ˈbrɒŋks/ is the northernmost of the five boroughs (counties) of New York City in the state of New York, located south of Westchester County. Many bridges and tunnels link the Bronx to the island and borough of Manhattan to the west over and under the narrow Harlem River, as well as three longer bridges south over the East River to the borough of Queens. Of the five boroughs, the Bronx is the only one on the U.S. mainland and, with a land area of 42 square miles (109 km2) and a population of 1,438,159 in 2014, has the fourth largest land area, the fourth highest population, and the third-highest population density.\",\n",
       "     ...\n",
       "     \"While it is undisputed that early humans were hunters, the importance of this for the emergence of the Homo genus from the earlier Australopithecines, including the production of stone tools and eventually the control of fire, are emphasised in the hunting hypothesis and de-emphasised in scenarios that stress omnivory and social interaction, including mating behaviour, as essential in the emergence of human behavioural modernity. With the establishment of language, culture, and religion, hunting became a theme of stories and myths, as well as rituals such as dance and animal sacrifice.\",\n",
       "     \"While it is undisputed that early humans were hunters, the importance of this for the emergence of the Homo genus from the earlier Australopithecines, including the production of stone tools and eventually the control of fire, are emphasised in the hunting hypothesis and de-emphasised in scenarios that stress omnivory and social interaction, including mating behaviour, as essential in the emergence of human behavioural modernity. With the establishment of language, culture, and religion, hunting became a theme of stories and myths, as well as rituals such as dance and animal sacrifice.\",\n",
       "     \"Hunter-gathering lifestyles remained prevalent in some parts of the New World, Sub-Saharan Africa, and Siberia, as well as all of Australia, until the European Age of Discovery. They still persist in some tribal societies, albeit in rapid decline. Peoples that preserved paleolithic hunting-gathering until the recent past include some indigenous peoples of the Amazonas (Aché), some Central and Southern African (San people), some peoples of New Guinea (Fayu), the Mlabri of Thailand and Laos, the Vedda people of Sri Lanka, and a handful of uncontacted peoples. In Africa, the only remaining full-time hunter-gatherers are the Hadza of Tanzania.[citation needed]\",\n",
       "     \"Hunter-gathering lifestyles remained prevalent in some parts of the New World, Sub-Saharan Africa, and Siberia, as well as all of Australia, until the European Age of Discovery. They still persist in some tribal societies, albeit in rapid decline. Peoples that preserved paleolithic hunting-gathering until the recent past include some indigenous peoples of the Amazonas (Aché), some Central and Southern African (San people), some peoples of New Guinea (Fayu), the Mlabri of Thailand and Laos, the Vedda people of Sri Lanka, and a handful of uncontacted peoples. In Africa, the only remaining full-time hunter-gatherers are the Hadza of Tanzania.[citation needed]\",\n",
       "     \"Hunter-gathering lifestyles remained prevalent in some parts of the New World, Sub-Saharan Africa, and Siberia, as well as all of Australia, until the European Age of Discovery. They still persist in some tribal societies, albeit in rapid decline. Peoples that preserved paleolithic hunting-gathering until the recent past include some indigenous peoples of the Amazonas (Aché), some Central and Southern African (San people), some peoples of New Guinea (Fayu), the Mlabri of Thailand and Laos, the Vedda people of Sri Lanka, and a handful of uncontacted peoples. In Africa, the only remaining full-time hunter-gatherers are the Hadza of Tanzania.[citation needed]\"\n",
       "   ],\n",
       "   [\n",
       "     \"Hunter-gathering lifestyles remained prevalent in some parts of the New World, Sub-Saharan Africa, and Siberia, as well as all of Australia, until the European Age of Discovery. They still persist in some tribal societies, albeit in rapid decline. Peoples that preserved paleolithic hunting-gathering until the recent past include some indigenous peoples of the Amazonas (Aché), some Central and Southern African (San people), some peoples of New Guinea (Fayu), the Mlabri of Thailand and Laos, the Vedda people of Sri Lanka, and a handful of uncontacted peoples. In Africa, the only remaining full-time hunter-gatherers are the Hadza of Tanzania.[citation needed]\",\n",
       "     \"Hunter-gathering lifestyles remained prevalent in some parts of the New World, Sub-Saharan Africa, and Siberia, as well as all of Australia, until the European Age of Discovery. They still persist in some tribal societies, albeit in rapid decline. Peoples that preserved paleolithic hunting-gathering until the recent past include some indigenous peoples of the Amazonas (Aché), some Central and Southern African (San people), some peoples of New Guinea (Fayu), the Mlabri of Thailand and Laos, the Vedda people of Sri Lanka, and a handful of uncontacted peoples. In Africa, the only remaining full-time hunter-gatherers are the Hadza of Tanzania.[citation needed]\",\n",
       "     \"Hunter-gathering lifestyles remained prevalent in some parts of the New World, Sub-Saharan Africa, and Siberia, as well as all of Australia, until the European Age of Discovery. They still persist in some tribal societies, albeit in rapid decline. Peoples that preserved paleolithic hunting-gathering until the recent past include some indigenous peoples of the Amazonas (Aché), some Central and Southern African (San people), some peoples of New Guinea (Fayu), the Mlabri of Thailand and Laos, the Vedda people of Sri Lanka, and a handful of uncontacted peoples. In Africa, the only remaining full-time hunter-gatherers are the Hadza of Tanzania.[citation needed]\",\n",
       "     \"Hunter-gathering lifestyles remained prevalent in some parts of the New World, Sub-Saharan Africa, and Siberia, as well as all of Australia, until the European Age of Discovery. They still persist in some tribal societies, albeit in rapid decline. Peoples that preserved paleolithic hunting-gathering until the recent past include some indigenous peoples of the Amazonas (Aché), some Central and Southern African (San people), some peoples of New Guinea (Fayu), the Mlabri of Thailand and Laos, the Vedda people of Sri Lanka, and a handful of uncontacted peoples. In Africa, the only remaining full-time hunter-gatherers are the Hadza of Tanzania.[citation needed]\",\n",
       "     \"Archaeologist Louis Binford criticised the idea that early hominids and early humans were hunters. On the basis of the analysis of the skeletal remains of the consumed animals, he concluded that hominids and early humans were mostly scavengers, not hunters, and this idea is popular among some archaeologists and paleoanthropologists. Robert Blumenschine proposed the idea of confrontational scavenging, which involves challenging and scaring off other predators after they have made a kill, which he suggests could have been the leading method of obtaining protein-rich meat by early humans.\",\n",
       "     ...\n",
       "     \"Kathmandu Metropolitan City (KMC), in order to promote international relations has established an International Relations Secretariat (IRC). KMC's first international relationship was established in 1975 with the city of Eugene, Oregon, United States. This activity has been further enhanced by establishing formal relationships with 8 other cities: Motsumoto City of Japan, Rochester of the USA, Yangon (formerly Rangoon) of Myanmar, Xi'an of the People's Republic of China, Minsk of Belarus, and Pyongyang of the Democratic Republic of Korea. KMC's constant endeavor is to enhance its interaction with SAARC countries, other International agencies and many other major cities of the world to achieve better urban management and developmental programs for Kathmandu.\",\n",
       "     \"Kathmandu Metropolitan City (KMC), in order to promote international relations has established an International Relations Secretariat (IRC). KMC's first international relationship was established in 1975 with the city of Eugene, Oregon, United States. This activity has been further enhanced by establishing formal relationships with 8 other cities: Motsumoto City of Japan, Rochester of the USA, Yangon (formerly Rangoon) of Myanmar, Xi'an of the People's Republic of China, Minsk of Belarus, and Pyongyang of the Democratic Republic of Korea. KMC's constant endeavor is to enhance its interaction with SAARC countries, other International agencies and many other major cities of the world to achieve better urban management and developmental programs for Kathmandu.\",\n",
       "     \"Kathmandu Metropolitan City (KMC), in order to promote international relations has established an International Relations Secretariat (IRC). KMC's first international relationship was established in 1975 with the city of Eugene, Oregon, United States. This activity has been further enhanced by establishing formal relationships with 8 other cities: Motsumoto City of Japan, Rochester of the USA, Yangon (formerly Rangoon) of Myanmar, Xi'an of the People's Republic of China, Minsk of Belarus, and Pyongyang of the Democratic Republic of Korea. KMC's constant endeavor is to enhance its interaction with SAARC countries, other International agencies and many other major cities of the world to achieve better urban management and developmental programs for Kathmandu.\",\n",
       "     \"Kathmandu Metropolitan City (KMC), in order to promote international relations has established an International Relations Secretariat (IRC). KMC's first international relationship was established in 1975 with the city of Eugene, Oregon, United States. This activity has been further enhanced by establishing formal relationships with 8 other cities: Motsumoto City of Japan, Rochester of the USA, Yangon (formerly Rangoon) of Myanmar, Xi'an of the People's Republic of China, Minsk of Belarus, and Pyongyang of the Democratic Republic of Korea. KMC's constant endeavor is to enhance its interaction with SAARC countries, other International agencies and many other major cities of the world to achieve better urban management and developmental programs for Kathmandu.\",\n",
       "     \"Kathmandu Metropolitan City (KMC), in order to promote international relations has established an International Relations Secretariat (IRC). KMC's first international relationship was established in 1975 with the city of Eugene, Oregon, United States. This activity has been further enhanced by establishing formal relationships with 8 other cities: Motsumoto City of Japan, Rochester of the USA, Yangon (formerly Rangoon) of Myanmar, Xi'an of the People's Republic of China, Minsk of Belarus, and Pyongyang of the Democratic Republic of Korea. KMC's constant endeavor is to enhance its interaction with SAARC countries, other International agencies and many other major cities of the world to achieve better urban management and developmental programs for Kathmandu.\"\n",
       "   ]\n",
       " ],\n",
       " <pyarrow.lib.ChunkedArray object at 0x7f6fa0e02130>\n",
       " [\n",
       "   [\n",
       "     \"To whom did the Virgin Mary allegedly appear in 1858 in Lourdes France?\",\n",
       "     \"What is in front of the Notre Dame Main Building?\",\n",
       "     \"The Basilica of the Sacred heart at Notre Dame is beside to which structure?\",\n",
       "     \"What is the Grotto at Notre Dame?\",\n",
       "     \"What sits on top of the Main Building at Notre Dame?\",\n",
       "     ...\n",
       "     \"What type of clothing does the British partnership with Beyoncé sell?\",\n",
       "     \"What national disaster caused Beyonce to create the Survivor Foundation?\",\n",
       "     \"How much cash did Beyonce put into the venture, the Survivor Foundation at startup?\",\n",
       "     \"What hurricane years later after Katrina did the organization provide support for?\",\n",
       "     \"What did Beyonce and Rowland found in 2005?\"\n",
       "   ],\n",
       "   [\n",
       "     \"How much did Beyonce initially contribute to the foundation?\",\n",
       "     \"How has this foundation changed in recent years?\",\n",
       "     \"What foundation did Beyoncé start after Hurricane Katrina?\",\n",
       "     \"How much money did Beyoncé contribute at the beginning of her Hurricane Katrina foundation?\",\n",
       "     \"What other hurricane did Beyoncé's foundation help with?\",\n",
       "     ...\n",
       "     \"Who paid for Chopin's apartment in Chaillot?\",\n",
       "     \"When did Jenny Lind visit Chopin?\",\n",
       "     \"When did his sister come to stay with Chopin?\",\n",
       "     \"In September 1849 where did Chopin take up residence?\",\n",
       "     \"Which family member came to Paris in June 1849?\"\n",
       "   ],\n",
       " ...,\n",
       "   [\n",
       "     \"How many meters away from the Masters tee on Augusta's 17th was the Eisenhower Pine?\",\n",
       "     \"What did Eisenhower want to be done to the Eisenhower Pine?\",\n",
       "     \"What damaged the Eisenhower Pine in February 2014?\",\n",
       "     \"In what year did Eisenhower propose that the pine tree named after him be removed?\",\n",
       "     \"How many boroughs are in NYC?\",\n",
       "     ...\n",
       "     \"What did hunting become a theme of?\",\n",
       "     \"Stone tools and control of fire are emphasised in what hypothesis? \",\n",
       "     \"What type of lifestyle was prevalent in Siberia until the European Age of Discovery?\",\n",
       "     \"Where does the hunter-gathering lifestyle persist, though in decline?\",\n",
       "     \"Indigenous peoples of the Amazonas preserved what until the recent past?\"\n",
       "   ],\n",
       "   [\n",
       "     \"Who are the only remaining full-time hunter-gatherers in Africa?\",\n",
       "     \"Hunter-gathering lifestyles remained prevalent until when?\",\n",
       "     \"What parts of the New World did the hunter-gathering lifestyles remain?\",\n",
       "     \"Who are the only remaining full-time hunter-gatherers in Africa?\",\n",
       "     \"What is Louis Binford's profession?\",\n",
       "     ...\n",
       "     \"In what US state did Kathmandu first establish an international relationship?\",\n",
       "     \"What was Yangon previously known as?\",\n",
       "     \"With what Belorussian city does Kathmandu have a relationship?\",\n",
       "     \"In what year did Kathmandu create its initial international relationship?\",\n",
       "     \"What is KMC an initialism of?\"\n",
       "   ]\n",
       " ],\n",
       " <pyarrow.lib.ChunkedArray object at 0x7f6fa05e6540>\n",
       " [\n",
       "   -- is_valid: all not null\n",
       "   -- child 0 type: list<item: string>\n",
       "     [\n",
       "       [\n",
       "         \"Saint Bernadette Soubirous\"\n",
       "       ],\n",
       "       [\n",
       "         \"a copper statue of Christ\"\n",
       "       ],\n",
       "       ...\n",
       "       [\n",
       "         \"Ike\"\n",
       "       ],\n",
       "       [\n",
       "         \"the Survivor Foundation\"\n",
       "       ]\n",
       "     ]\n",
       "   -- child 1 type: list<item: int32>\n",
       "     [\n",
       "       [\n",
       "         515\n",
       "       ],\n",
       "       [\n",
       "         188\n",
       "       ],\n",
       "       ...\n",
       "       [\n",
       "         321\n",
       "       ],\n",
       "       [\n",
       "         61\n",
       "       ]\n",
       "     ],\n",
       "   -- is_valid: all not null\n",
       "   -- child 0 type: list<item: string>\n",
       "     [\n",
       "       [\n",
       "         \"$250,000\"\n",
       "       ],\n",
       "       [\n",
       "         \"expanded to work with other charities\"\n",
       "       ],\n",
       "       ...\n",
       "       [\n",
       "         \"Place Vendôme 12\"\n",
       "       ],\n",
       "       [\n",
       "         \"his sister\"\n",
       "       ]\n",
       "     ]\n",
       "   -- child 1 type: list<item: int32>\n",
       "     [\n",
       "       [\n",
       "         190\n",
       "       ],\n",
       "       [\n",
       "         225\n",
       "       ],\n",
       "       ...\n",
       "       [\n",
       "         247\n",
       "       ],\n",
       "       [\n",
       "         101\n",
       "       ]\n",
       "     ],\n",
       " ...,\n",
       "   -- is_valid: all not null\n",
       "   -- child 0 type: list<item: string>\n",
       "     [\n",
       "       [\n",
       "         \"192\"\n",
       "       ],\n",
       "       [\n",
       "         \"cut down\"\n",
       "       ],\n",
       "       ...\n",
       "       [\n",
       "         \"some tribal societies\"\n",
       "       ],\n",
       "       [\n",
       "         \"paleolithic hunting-gathering\"\n",
       "       ]\n",
       "     ]\n",
       "   -- child 1 type: list<item: int32>\n",
       "     [\n",
       "       [\n",
       "         110\n",
       "       ],\n",
       "       [\n",
       "         279\n",
       "       ],\n",
       "       ...\n",
       "       [\n",
       "         200\n",
       "       ],\n",
       "       [\n",
       "         271\n",
       "       ]\n",
       "     ],\n",
       "   -- is_valid: all not null\n",
       "   -- child 0 type: list<item: string>\n",
       "     [\n",
       "       [\n",
       "         \"the Hadza of Tanzania\"\n",
       "       ],\n",
       "       [\n",
       "         \"European Age of Discovery\"\n",
       "       ],\n",
       "       ...\n",
       "       [\n",
       "         \"1975\"\n",
       "       ],\n",
       "       [\n",
       "         \"Kathmandu Metropolitan City\"\n",
       "       ]\n",
       "     ]\n",
       "   -- child 1 type: list<item: int32>\n",
       "     [\n",
       "       [\n",
       "         625\n",
       "       ],\n",
       "       [\n",
       "         151\n",
       "       ],\n",
       "       ...\n",
       "       [\n",
       "         199\n",
       "       ],\n",
       "       [\n",
       "         0\n",
       "       ]\n",
       "     ]\n",
       " ]]"
      ]
     },
     "execution_count": 21,
     "metadata": {},
     "output_type": "execute_result"
    }
   ],
   "source": [
    "datasets.columns"
   ]
  },
  {
   "cell_type": "code",
   "execution_count": 18,
   "id": "982e4203-6a45-4ae6-887b-20640ecdf766",
   "metadata": {
    "execution": {
     "iopub.execute_input": "2023-06-02T14:54:39.396027Z",
     "iopub.status.busy": "2023-06-02T14:54:39.395516Z",
     "iopub.status.idle": "2023-06-02T14:54:39.401048Z",
     "shell.execute_reply": "2023-06-02T14:54:39.400234Z",
     "shell.execute_reply.started": "2023-06-02T14:54:39.395987Z"
    },
    "tags": []
   },
   "outputs": [],
   "source": [
    "datasets_s = [str(_) for _ in datasets[: 15]]"
   ]
  },
  {
   "cell_type": "code",
   "execution_count": 19,
   "id": "43d85563-c081-41c2-b357-f775048c9c35",
   "metadata": {
    "execution": {
     "iopub.execute_input": "2023-06-02T14:54:40.383154Z",
     "iopub.status.busy": "2023-06-02T14:54:40.382721Z",
     "iopub.status.idle": "2023-06-02T14:54:40.388434Z",
     "shell.execute_reply": "2023-06-02T14:54:40.387661Z",
     "shell.execute_reply.started": "2023-06-02T14:54:40.383127Z"
    },
    "tags": []
   },
   "outputs": [
    {
     "data": {
      "text/plain": [
       "['Architecturally, the school has a Catholic character. Atop the Main Building\\'s gold dome is a golden statue of the Virgin Mary. Immediately in front of the Main Building and facing it, is a copper statue of Christ with arms upraised with the legend \"Venite Ad Me Omnes\". Next to the Main Building is the Basilica of the Sacred Heart. Immediately behind the basilica is the Grotto, a Marian place of prayer and reflection. It is a replica of the grotto at Lourdes, France where the Virgin Mary reputedly appeared to Saint Bernadette Soubirous in 1858. At the end of the main drive (and in a direct line that connects through 3 statues and the Gold Dome), is a simple, modern stone statue of Mary.',\n",
       " 'Architecturally, the school has a Catholic character. Atop the Main Building\\'s gold dome is a golden statue of the Virgin Mary. Immediately in front of the Main Building and facing it, is a copper statue of Christ with arms upraised with the legend \"Venite Ad Me Omnes\". Next to the Main Building is the Basilica of the Sacred Heart. Immediately behind the basilica is the Grotto, a Marian place of prayer and reflection. It is a replica of the grotto at Lourdes, France where the Virgin Mary reputedly appeared to Saint Bernadette Soubirous in 1858. At the end of the main drive (and in a direct line that connects through 3 statues and the Gold Dome), is a simple, modern stone statue of Mary.',\n",
       " 'Architecturally, the school has a Catholic character. Atop the Main Building\\'s gold dome is a golden statue of the Virgin Mary. Immediately in front of the Main Building and facing it, is a copper statue of Christ with arms upraised with the legend \"Venite Ad Me Omnes\". Next to the Main Building is the Basilica of the Sacred Heart. Immediately behind the basilica is the Grotto, a Marian place of prayer and reflection. It is a replica of the grotto at Lourdes, France where the Virgin Mary reputedly appeared to Saint Bernadette Soubirous in 1858. At the end of the main drive (and in a direct line that connects through 3 statues and the Gold Dome), is a simple, modern stone statue of Mary.',\n",
       " 'Architecturally, the school has a Catholic character. Atop the Main Building\\'s gold dome is a golden statue of the Virgin Mary. Immediately in front of the Main Building and facing it, is a copper statue of Christ with arms upraised with the legend \"Venite Ad Me Omnes\". Next to the Main Building is the Basilica of the Sacred Heart. Immediately behind the basilica is the Grotto, a Marian place of prayer and reflection. It is a replica of the grotto at Lourdes, France where the Virgin Mary reputedly appeared to Saint Bernadette Soubirous in 1858. At the end of the main drive (and in a direct line that connects through 3 statues and the Gold Dome), is a simple, modern stone statue of Mary.',\n",
       " 'Architecturally, the school has a Catholic character. Atop the Main Building\\'s gold dome is a golden statue of the Virgin Mary. Immediately in front of the Main Building and facing it, is a copper statue of Christ with arms upraised with the legend \"Venite Ad Me Omnes\". Next to the Main Building is the Basilica of the Sacred Heart. Immediately behind the basilica is the Grotto, a Marian place of prayer and reflection. It is a replica of the grotto at Lourdes, France where the Virgin Mary reputedly appeared to Saint Bernadette Soubirous in 1858. At the end of the main drive (and in a direct line that connects through 3 statues and the Gold Dome), is a simple, modern stone statue of Mary.',\n",
       " \"As at most other universities, Notre Dame's students run a number of news media outlets. The nine student-run outlets include three newspapers, both a radio and television station, and several magazines and journals. Begun as a one-page journal in September 1876, the Scholastic magazine is issued twice monthly and claims to be the oldest continuous collegiate publication in the United States. The other magazine, The Juggler, is released twice a year and focuses on student literature and artwork. The Dome yearbook is published annually. The newspapers have varying publication interests, with The Observer published daily and mainly reporting university and other news, and staffed by students from both Notre Dame and Saint Mary's College. Unlike Scholastic and The Dome, The Observer is an independent publication and does not have a faculty advisor or any editorial oversight from the University. In 1987, when some students believed that The Observer began to show a conservative bias, a liberal newspaper, Common Sense was published. Likewise, in 2003, when other students believed that the paper showed a liberal bias, the conservative paper Irish Rover went into production. Neither paper is published as often as The Observer; however, all three are distributed to all students. Finally, in Spring 2008 an undergraduate journal for political science research, Beyond Politics, made its debut.\",\n",
       " \"As at most other universities, Notre Dame's students run a number of news media outlets. The nine student-run outlets include three newspapers, both a radio and television station, and several magazines and journals. Begun as a one-page journal in September 1876, the Scholastic magazine is issued twice monthly and claims to be the oldest continuous collegiate publication in the United States. The other magazine, The Juggler, is released twice a year and focuses on student literature and artwork. The Dome yearbook is published annually. The newspapers have varying publication interests, with The Observer published daily and mainly reporting university and other news, and staffed by students from both Notre Dame and Saint Mary's College. Unlike Scholastic and The Dome, The Observer is an independent publication and does not have a faculty advisor or any editorial oversight from the University. In 1987, when some students believed that The Observer began to show a conservative bias, a liberal newspaper, Common Sense was published. Likewise, in 2003, when other students believed that the paper showed a liberal bias, the conservative paper Irish Rover went into production. Neither paper is published as often as The Observer; however, all three are distributed to all students. Finally, in Spring 2008 an undergraduate journal for political science research, Beyond Politics, made its debut.\",\n",
       " \"As at most other universities, Notre Dame's students run a number of news media outlets. The nine student-run outlets include three newspapers, both a radio and television station, and several magazines and journals. Begun as a one-page journal in September 1876, the Scholastic magazine is issued twice monthly and claims to be the oldest continuous collegiate publication in the United States. The other magazine, The Juggler, is released twice a year and focuses on student literature and artwork. The Dome yearbook is published annually. The newspapers have varying publication interests, with The Observer published daily and mainly reporting university and other news, and staffed by students from both Notre Dame and Saint Mary's College. Unlike Scholastic and The Dome, The Observer is an independent publication and does not have a faculty advisor or any editorial oversight from the University. In 1987, when some students believed that The Observer began to show a conservative bias, a liberal newspaper, Common Sense was published. Likewise, in 2003, when other students believed that the paper showed a liberal bias, the conservative paper Irish Rover went into production. Neither paper is published as often as The Observer; however, all three are distributed to all students. Finally, in Spring 2008 an undergraduate journal for political science research, Beyond Politics, made its debut.\",\n",
       " \"As at most other universities, Notre Dame's students run a number of news media outlets. The nine student-run outlets include three newspapers, both a radio and television station, and several magazines and journals. Begun as a one-page journal in September 1876, the Scholastic magazine is issued twice monthly and claims to be the oldest continuous collegiate publication in the United States. The other magazine, The Juggler, is released twice a year and focuses on student literature and artwork. The Dome yearbook is published annually. The newspapers have varying publication interests, with The Observer published daily and mainly reporting university and other news, and staffed by students from both Notre Dame and Saint Mary's College. Unlike Scholastic and The Dome, The Observer is an independent publication and does not have a faculty advisor or any editorial oversight from the University. In 1987, when some students believed that The Observer began to show a conservative bias, a liberal newspaper, Common Sense was published. Likewise, in 2003, when other students believed that the paper showed a liberal bias, the conservative paper Irish Rover went into production. Neither paper is published as often as The Observer; however, all three are distributed to all students. Finally, in Spring 2008 an undergraduate journal for political science research, Beyond Politics, made its debut.\",\n",
       " \"As at most other universities, Notre Dame's students run a number of news media outlets. The nine student-run outlets include three newspapers, both a radio and television station, and several magazines and journals. Begun as a one-page journal in September 1876, the Scholastic magazine is issued twice monthly and claims to be the oldest continuous collegiate publication in the United States. The other magazine, The Juggler, is released twice a year and focuses on student literature and artwork. The Dome yearbook is published annually. The newspapers have varying publication interests, with The Observer published daily and mainly reporting university and other news, and staffed by students from both Notre Dame and Saint Mary's College. Unlike Scholastic and The Dome, The Observer is an independent publication and does not have a faculty advisor or any editorial oversight from the University. In 1987, when some students believed that The Observer began to show a conservative bias, a liberal newspaper, Common Sense was published. Likewise, in 2003, when other students believed that the paper showed a liberal bias, the conservative paper Irish Rover went into production. Neither paper is published as often as The Observer; however, all three are distributed to all students. Finally, in Spring 2008 an undergraduate journal for political science research, Beyond Politics, made its debut.\",\n",
       " 'The university is the major seat of the Congregation of Holy Cross (albeit not its official headquarters, which are in Rome). Its main seminary, Moreau Seminary, is located on the campus across St. Joseph lake from the Main Building. Old College, the oldest building on campus and located near the shore of St. Mary lake, houses undergraduate seminarians. Retired priests and brothers reside in Fatima House (a former retreat center), Holy Cross House, as well as Columba Hall near the Grotto. The university through the Moreau Seminary has ties to theologian Frederick Buechner. While not Catholic, Buechner has praised writers from Notre Dame and Moreau Seminary created a Buechner Prize for Preaching.',\n",
       " 'The university is the major seat of the Congregation of Holy Cross (albeit not its official headquarters, which are in Rome). Its main seminary, Moreau Seminary, is located on the campus across St. Joseph lake from the Main Building. Old College, the oldest building on campus and located near the shore of St. Mary lake, houses undergraduate seminarians. Retired priests and brothers reside in Fatima House (a former retreat center), Holy Cross House, as well as Columba Hall near the Grotto. The university through the Moreau Seminary has ties to theologian Frederick Buechner. While not Catholic, Buechner has praised writers from Notre Dame and Moreau Seminary created a Buechner Prize for Preaching.',\n",
       " 'The university is the major seat of the Congregation of Holy Cross (albeit not its official headquarters, which are in Rome). Its main seminary, Moreau Seminary, is located on the campus across St. Joseph lake from the Main Building. Old College, the oldest building on campus and located near the shore of St. Mary lake, houses undergraduate seminarians. Retired priests and brothers reside in Fatima House (a former retreat center), Holy Cross House, as well as Columba Hall near the Grotto. The university through the Moreau Seminary has ties to theologian Frederick Buechner. While not Catholic, Buechner has praised writers from Notre Dame and Moreau Seminary created a Buechner Prize for Preaching.',\n",
       " 'The university is the major seat of the Congregation of Holy Cross (albeit not its official headquarters, which are in Rome). Its main seminary, Moreau Seminary, is located on the campus across St. Joseph lake from the Main Building. Old College, the oldest building on campus and located near the shore of St. Mary lake, houses undergraduate seminarians. Retired priests and brothers reside in Fatima House (a former retreat center), Holy Cross House, as well as Columba Hall near the Grotto. The university through the Moreau Seminary has ties to theologian Frederick Buechner. While not Catholic, Buechner has praised writers from Notre Dame and Moreau Seminary created a Buechner Prize for Preaching.',\n",
       " 'The university is the major seat of the Congregation of Holy Cross (albeit not its official headquarters, which are in Rome). Its main seminary, Moreau Seminary, is located on the campus across St. Joseph lake from the Main Building. Old College, the oldest building on campus and located near the shore of St. Mary lake, houses undergraduate seminarians. Retired priests and brothers reside in Fatima House (a former retreat center), Holy Cross House, as well as Columba Hall near the Grotto. The university through the Moreau Seminary has ties to theologian Frederick Buechner. While not Catholic, Buechner has praised writers from Notre Dame and Moreau Seminary created a Buechner Prize for Preaching.']"
      ]
     },
     "execution_count": 19,
     "metadata": {},
     "output_type": "execute_result"
    }
   ],
   "source": [
    "datasets_s"
   ]
  },
  {
   "cell_type": "code",
   "execution_count": null,
   "id": "f1fc6f60-7641-4ebe-8a55-c05ae90b1f88",
   "metadata": {},
   "outputs": [],
   "source": []
  },
  {
   "cell_type": "code",
   "execution_count": null,
   "id": "affad1e2-c64e-4ade-a4f0-9f4a788a9013",
   "metadata": {},
   "outputs": [],
   "source": []
  },
  {
   "cell_type": "code",
   "execution_count": null,
   "id": "a19d261d-1b21-4abd-8e32-458f5da07251",
   "metadata": {},
   "outputs": [],
   "source": []
  },
  {
   "cell_type": "code",
   "execution_count": null,
   "id": "4af0c0ad-eef6-4f83-9520-950f960a45cd",
   "metadata": {},
   "outputs": [],
   "source": []
  }
 ],
 "metadata": {
  "kernelspec": {
   "display_name": "Python [conda env:.conda-pre_train]",
   "language": "python",
   "name": "conda-env-.conda-pre_train-py"
  },
  "language_info": {
   "codemirror_mode": {
    "name": "ipython",
    "version": 3
   },
   "file_extension": ".py",
   "mimetype": "text/x-python",
   "name": "python",
   "nbconvert_exporter": "python",
   "pygments_lexer": "ipython3",
   "version": "3.8.13"
  },
  "widgets": {
   "application/vnd.jupyter.widget-state+json": {
    "state": {
     "00e1a7a3490e45949423f19c9be93120": {
      "model_module": "@jupyter-widgets/controls",
      "model_module_version": "2.0.0",
      "model_name": "HTMLStyleModel",
      "state": {
       "description_width": "",
       "font_size": null,
       "text_color": null
      }
     },
     "021d297f6e3d4cd496065afbcfd0a6e6": {
      "model_module": "@jupyter-widgets/controls",
      "model_module_version": "2.0.0",
      "model_name": "HBoxModel",
      "state": {
       "children": [
        "IPY_MODEL_68f445cff2e84d439262c2b97d99131a",
        "IPY_MODEL_d4fbb621533a493cb0bd5c028aea7344",
        "IPY_MODEL_92358e883e5b4dfb9a352097ad292edc"
       ],
       "layout": "IPY_MODEL_f3717f71f95f4d6c8f624701d6af582c"
      }
     },
     "0258060796284c5e97d76552b19b2a19": {
      "model_module": "@jupyter-widgets/controls",
      "model_module_version": "2.0.0",
      "model_name": "ProgressStyleModel",
      "state": {
       "description_width": ""
      }
     },
     "02b8514a374a4cfb96ced4f74335b22f": {
      "model_module": "@jupyter-widgets/controls",
      "model_module_version": "2.0.0",
      "model_name": "HTMLStyleModel",
      "state": {
       "description_width": "",
       "font_size": null,
       "text_color": null
      }
     },
     "02eeba9626694c26b4a92c64a4d4333e": {
      "model_module": "@jupyter-widgets/controls",
      "model_module_version": "2.0.0",
      "model_name": "HTMLStyleModel",
      "state": {
       "description_width": "",
       "font_size": null,
       "text_color": null
      }
     },
     "02f0f4d12f5147d2a6240685508206de": {
      "model_module": "@jupyter-widgets/controls",
      "model_module_version": "2.0.0",
      "model_name": "HBoxModel",
      "state": {
       "children": [
        "IPY_MODEL_6da8f9629ea9474d8b6ea62cd7b5327d",
        "IPY_MODEL_4eafc592ef76487696a829684fa9882e",
        "IPY_MODEL_69e7101521924e81a829721fe7f808b1"
       ],
       "layout": "IPY_MODEL_95a19bef58094a45af1459aa9e17985e"
      }
     },
     "033449c0874045039f08843a4c197148": {
      "model_module": "@jupyter-widgets/base",
      "model_module_version": "2.0.0",
      "model_name": "LayoutModel",
      "state": {}
     },
     "03efd06e4ed240ffbf93bfd8a0ef37c6": {
      "model_module": "@jupyter-widgets/controls",
      "model_module_version": "2.0.0",
      "model_name": "HTMLStyleModel",
      "state": {
       "description_width": "",
       "font_size": null,
       "text_color": null
      }
     },
     "04ac2a1c8a794457918aabae84d2e623": {
      "model_module": "@jupyter-widgets/controls",
      "model_module_version": "2.0.0",
      "model_name": "HTMLStyleModel",
      "state": {
       "description_width": "",
       "font_size": null,
       "text_color": null
      }
     },
     "0732fc7af4c94ec882661fd2e441057b": {
      "model_module": "@jupyter-widgets/base",
      "model_module_version": "2.0.0",
      "model_name": "LayoutModel",
      "state": {}
     },
     "079005ab87f2411d83146031e40a0aca": {
      "model_module": "@jupyter-widgets/base",
      "model_module_version": "2.0.0",
      "model_name": "LayoutModel",
      "state": {}
     },
     "09e4b7ad029242f6a20153a68f9a72ea": {
      "model_module": "@jupyter-widgets/controls",
      "model_module_version": "2.0.0",
      "model_name": "HBoxModel",
      "state": {
       "children": [
        "IPY_MODEL_a3071860a9d546d28eb9b3a7e4af6efd",
        "IPY_MODEL_9572c2bbd6a14e9d8f2988c8decbe0ab",
        "IPY_MODEL_5774778bd2264bcaa59c93262395d483"
       ],
       "layout": "IPY_MODEL_7f5c4720e775426e8b7ba022584a5564"
      }
     },
     "0aa73e4862e14159b044d4ad281733ca": {
      "model_module": "@jupyter-widgets/base",
      "model_module_version": "2.0.0",
      "model_name": "LayoutModel",
      "state": {}
     },
     "0c7c9ae1184f4e4db272703611b1e7f9": {
      "model_module": "@jupyter-widgets/controls",
      "model_module_version": "2.0.0",
      "model_name": "HTMLModel",
      "state": {
       "layout": "IPY_MODEL_89d0b5b7a68740a98c535af05e6a9f25",
       "style": "IPY_MODEL_c12bb51eaab2484ab05db59fe050b59f",
       "value": " 0/4 [00:00&lt;?, ?ba/s]"
      }
     },
     "0db1e93f3be043a0a0f8259e4a2857de": {
      "model_module": "@jupyter-widgets/controls",
      "model_module_version": "2.0.0",
      "model_name": "HTMLStyleModel",
      "state": {
       "description_width": "",
       "font_size": null,
       "text_color": null
      }
     },
     "0e20d950b65a4bbfaafa183cee3408b1": {
      "model_module": "@jupyter-widgets/base",
      "model_module_version": "2.0.0",
      "model_name": "LayoutModel",
      "state": {
       "visibility": "hidden"
      }
     },
     "0e5d0fec216648c0bc752a7c573ca47c": {
      "model_module": "@jupyter-widgets/base",
      "model_module_version": "2.0.0",
      "model_name": "LayoutModel",
      "state": {}
     },
     "0e76d19cb1df40a195a2ce251e4a2092": {
      "model_module": "@jupyter-widgets/controls",
      "model_module_version": "2.0.0",
      "model_name": "ProgressStyleModel",
      "state": {
       "description_width": ""
      }
     },
     "10c717f56abe487f85ce6345984548ba": {
      "model_module": "@jupyter-widgets/controls",
      "model_module_version": "2.0.0",
      "model_name": "HTMLModel",
      "state": {
       "layout": "IPY_MODEL_b5d27f535dff4159ae0eb10b7c5c485a",
       "style": "IPY_MODEL_9bb6ca7edb17413e9788d7c28a2e5c78",
       "value": "Computing checksums: 100%"
      }
     },
     "113ac96bfa8d40e2910980c35191f2ff": {
      "model_module": "@jupyter-widgets/controls",
      "model_module_version": "2.0.0",
      "model_name": "HTMLModel",
      "state": {
       "layout": "IPY_MODEL_fee0f725f4464e23a21c700f51faa89c",
       "style": "IPY_MODEL_9ec1b38f58e649b2a0ef0d9d1b936daa",
       "value": "Downloading readme: 100%"
      }
     },
     "123bda615d99482dad6cadb209c1e5f6": {
      "model_module": "@jupyter-widgets/controls",
      "model_module_version": "2.0.0",
      "model_name": "HBoxModel",
      "state": {
       "children": [
        "IPY_MODEL_da4628b975b148e59324cdcece5e0456",
        "IPY_MODEL_3f5d7cd0af014793840f62bf1aafdeb4",
        "IPY_MODEL_a0c76b4552184d3098abc4d45853db6a"
       ],
       "layout": "IPY_MODEL_161f5d129c144effafaf13e1d9886e27"
      }
     },
     "124c333800974b379702f306e0673dbe": {
      "model_module": "@jupyter-widgets/controls",
      "model_module_version": "2.0.0",
      "model_name": "HTMLModel",
      "state": {
       "layout": "IPY_MODEL_3f2c6edc95fa4fcd9d6467dce9567ad6",
       "style": "IPY_MODEL_8ea01b7964ee4fe3843511aaacc15028",
       "value": " 4.85M/? [00:00&lt;00:00, 63.9MB/s]"
      }
     },
     "15f8e0e3b5f148fb9250cab804475270": {
      "model_module": "@jupyter-widgets/controls",
      "model_module_version": "2.0.0",
      "model_name": "HTMLStyleModel",
      "state": {
       "description_width": "",
       "font_size": null,
       "text_color": null
      }
     },
     "161f5d129c144effafaf13e1d9886e27": {
      "model_module": "@jupyter-widgets/base",
      "model_module_version": "2.0.0",
      "model_name": "LayoutModel",
      "state": {}
     },
     "16239999af8f46c7b3af0c5bbbf6b3c5": {
      "model_module": "@jupyter-widgets/base",
      "model_module_version": "2.0.0",
      "model_name": "LayoutModel",
      "state": {}
     },
     "16272d62af874a8e9b4ee8f61441e116": {
      "model_module": "@jupyter-widgets/base",
      "model_module_version": "2.0.0",
      "model_name": "LayoutModel",
      "state": {}
     },
     "17f36b5d12674f6486885f7067051c66": {
      "model_module": "@jupyter-widgets/base",
      "model_module_version": "2.0.0",
      "model_name": "LayoutModel",
      "state": {}
     },
     "18e2c6cd019d41bbb3dd5e49772a78b1": {
      "model_module": "@jupyter-widgets/controls",
      "model_module_version": "2.0.0",
      "model_name": "HTMLModel",
      "state": {
       "layout": "IPY_MODEL_a45a903a584845528d9c736aa6070d7e",
       "style": "IPY_MODEL_db7623d52566440591328908c0d3ad68",
       "value": "Downloading data files: 100%"
      }
     },
     "198d4639b2bb4f29adb8a477880404d3": {
      "model_module": "@jupyter-widgets/controls",
      "model_module_version": "2.0.0",
      "model_name": "ProgressStyleModel",
      "state": {
       "description_width": ""
      }
     },
     "1c996cacc943437c9224dcee244eba26": {
      "model_module": "@jupyter-widgets/base",
      "model_module_version": "2.0.0",
      "model_name": "LayoutModel",
      "state": {}
     },
     "1d08e5a116d346889b36878e14ce6ffb": {
      "model_module": "@jupyter-widgets/base",
      "model_module_version": "2.0.0",
      "model_name": "LayoutModel",
      "state": {}
     },
     "1d730a93b06f406ea54a01b4a41124f6": {
      "model_module": "@jupyter-widgets/base",
      "model_module_version": "2.0.0",
      "model_name": "LayoutModel",
      "state": {}
     },
     "1d7468965c4940c6b725a3ab953431fe": {
      "model_module": "@jupyter-widgets/controls",
      "model_module_version": "2.0.0",
      "model_name": "HTMLStyleModel",
      "state": {
       "description_width": "",
       "font_size": null,
       "text_color": null
      }
     },
     "1e98505a5cf54ae79b1f737faa241f58": {
      "model_module": "@jupyter-widgets/base",
      "model_module_version": "2.0.0",
      "model_name": "LayoutModel",
      "state": {}
     },
     "209f53d7343144ac82ce536770d5c5a5": {
      "model_module": "@jupyter-widgets/base",
      "model_module_version": "2.0.0",
      "model_name": "LayoutModel",
      "state": {}
     },
     "222a778ce3bb4305aa300ef7953587f2": {
      "model_module": "@jupyter-widgets/controls",
      "model_module_version": "2.0.0",
      "model_name": "HTMLModel",
      "state": {
       "layout": "IPY_MODEL_a72530af7b5a45ee8449470be6436799",
       "style": "IPY_MODEL_c168b421f44d426fb0a0882a9f7fd7ab",
       "value": "  0%"
      }
     },
     "2438f705a7524b6f941af9dfcaa6e056": {
      "model_module": "@jupyter-widgets/controls",
      "model_module_version": "2.0.0",
      "model_name": "HTMLStyleModel",
      "state": {
       "description_width": "",
       "font_size": null,
       "text_color": null
      }
     },
     "26a5699d2f0a4745ac77cf261c4e3e8b": {
      "model_module": "@jupyter-widgets/controls",
      "model_module_version": "2.0.0",
      "model_name": "HTMLModel",
      "state": {
       "layout": "IPY_MODEL_079005ab87f2411d83146031e40a0aca",
       "style": "IPY_MODEL_992eacd8992449f192410ef6a36e4f34",
       "value": "  0%"
      }
     },
     "27483df21b39445b93d4664291c10427": {
      "model_module": "@jupyter-widgets/base",
      "model_module_version": "2.0.0",
      "model_name": "LayoutModel",
      "state": {}
     },
     "27d62530e1474ce28c91f64d84a1016b": {
      "model_module": "@jupyter-widgets/base",
      "model_module_version": "2.0.0",
      "model_name": "LayoutModel",
      "state": {}
     },
     "28739be49bab450a9a82a25e798eb08d": {
      "model_module": "@jupyter-widgets/controls",
      "model_module_version": "2.0.0",
      "model_name": "HTMLStyleModel",
      "state": {
       "description_width": "",
       "font_size": null,
       "text_color": null
      }
     },
     "2a39e91d9f1d4a52a53a5e2ec7852831": {
      "model_module": "@jupyter-widgets/controls",
      "model_module_version": "2.0.0",
      "model_name": "HTMLModel",
      "state": {
       "layout": "IPY_MODEL_16239999af8f46c7b3af0c5bbbf6b3c5",
       "style": "IPY_MODEL_894f70e39fc04652a43227fdd26f282a",
       "value": " 2/2 [00:00&lt;00:00, 26.36it/s]"
      }
     },
     "2a9bc100e36144588a637a52d8eb3027": {
      "model_module": "@jupyter-widgets/controls",
      "model_module_version": "2.0.0",
      "model_name": "FloatProgressModel",
      "state": {
       "bar_style": "danger",
       "layout": "IPY_MODEL_f23bbad4475d412e8f17ecd53730691e",
       "max": 4,
       "style": "IPY_MODEL_870f676eb0684528945ae6967e775d52"
      }
     },
     "2c0d221a87824bb2a804a44966b880c3": {
      "model_module": "@jupyter-widgets/controls",
      "model_module_version": "2.0.0",
      "model_name": "FloatProgressModel",
      "state": {
       "bar_style": "success",
       "layout": "IPY_MODEL_17f36b5d12674f6486885f7067051c66",
       "max": 2360,
       "style": "IPY_MODEL_92404cb5e0514727820eeba430c277d2",
       "value": 2360
      }
     },
     "2df492e930874dcca17316b732ee8702": {
      "model_module": "@jupyter-widgets/controls",
      "model_module_version": "2.0.0",
      "model_name": "HBoxModel",
      "state": {
       "children": [
        "IPY_MODEL_8b0ea13dc95e4ce7909ca57389fe519b",
        "IPY_MODEL_7ae1dec5790f4158ae974c44b9a2791d",
        "IPY_MODEL_cb2be4f0dbc046d79ebeaa8b14a006e5"
       ],
       "layout": "IPY_MODEL_c16d53cf9ecb4b018fad4141db08aeca"
      }
     },
     "2fb3186169134076b91fb47b2dc391f6": {
      "model_module": "@jupyter-widgets/controls",
      "model_module_version": "2.0.0",
      "model_name": "HTMLModel",
      "state": {
       "layout": "IPY_MODEL_8a26f85a2d504e5c92cd53baf5715424",
       "style": "IPY_MODEL_04ac2a1c8a794457918aabae84d2e623",
       "value": "  0%"
      }
     },
     "30caafbc300b4045b9782807dcaaf5f3": {
      "model_module": "@jupyter-widgets/base",
      "model_module_version": "2.0.0",
      "model_name": "LayoutModel",
      "state": {}
     },
     "31bfd6f677ff4b05a7cf4135d3e4d705": {
      "model_module": "@jupyter-widgets/controls",
      "model_module_version": "2.0.0",
      "model_name": "HTMLStyleModel",
      "state": {
       "description_width": "",
       "font_size": null,
       "text_color": null
      }
     },
     "32bd9021cdb34d2bb247863a51cbef04": {
      "model_module": "@jupyter-widgets/controls",
      "model_module_version": "2.0.0",
      "model_name": "HTMLStyleModel",
      "state": {
       "description_width": "",
       "font_size": null,
       "text_color": null
      }
     },
     "33145e8036fe4b5d9438491dc620fe31": {
      "model_module": "@jupyter-widgets/base",
      "model_module_version": "2.0.0",
      "model_name": "LayoutModel",
      "state": {}
     },
     "35217e9358f04bf4b00b8bd8b905ea9b": {
      "model_module": "@jupyter-widgets/base",
      "model_module_version": "2.0.0",
      "model_name": "LayoutModel",
      "state": {}
     },
     "355aa574ce21441898f5b020701a29ce": {
      "model_module": "@jupyter-widgets/base",
      "model_module_version": "2.0.0",
      "model_name": "LayoutModel",
      "state": {}
     },
     "35e1b3f713a742e3a0ef70ab33ced165": {
      "model_module": "@jupyter-widgets/base",
      "model_module_version": "2.0.0",
      "model_name": "LayoutModel",
      "state": {}
     },
     "36227887cff54935b719f2301abaceff": {
      "model_module": "@jupyter-widgets/controls",
      "model_module_version": "2.0.0",
      "model_name": "HTMLStyleModel",
      "state": {
       "description_width": "",
       "font_size": null,
       "text_color": null
      }
     },
     "3668f3febb8d47f98299a7cb2ad80f32": {
      "model_module": "@jupyter-widgets/base",
      "model_module_version": "2.0.0",
      "model_name": "LayoutModel",
      "state": {}
     },
     "38a270ae465944d1b8a28cfd9bf2bddb": {
      "model_module": "@jupyter-widgets/controls",
      "model_module_version": "2.0.0",
      "model_name": "HTMLModel",
      "state": {
       "layout": "IPY_MODEL_e4e6f6ffda044a199dce3a8bccfe3348",
       "style": "IPY_MODEL_e1e5ddb993f44394a3ffca0ec8666b5e",
       "value": "Extracting data files: 100%"
      }
     },
     "38b69fdbdf2f40cf81aeae7fc6dc6d13": {
      "model_module": "@jupyter-widgets/base",
      "model_module_version": "2.0.0",
      "model_name": "LayoutModel",
      "state": {}
     },
     "3a055636a9fe46ac813b712f8b8ff6be": {
      "model_module": "@jupyter-widgets/base",
      "model_module_version": "2.0.0",
      "model_name": "LayoutModel",
      "state": {}
     },
     "3a5f53d24321414cb2b39d74a55e6acd": {
      "model_module": "@jupyter-widgets/base",
      "model_module_version": "2.0.0",
      "model_name": "LayoutModel",
      "state": {}
     },
     "3ad2b931ad6f4d05bec10a6d636342d5": {
      "model_module": "@jupyter-widgets/controls",
      "model_module_version": "2.0.0",
      "model_name": "HTMLModel",
      "state": {
       "layout": "IPY_MODEL_3a5f53d24321414cb2b39d74a55e6acd",
       "style": "IPY_MODEL_76203f2022e040edbf69b10e0f78588d",
       "value": " 0/8 [00:00&lt;?, ?ba/s]"
      }
     },
     "3ad4cfabb705412f916db397c5e9715d": {
      "model_module": "@jupyter-widgets/base",
      "model_module_version": "2.0.0",
      "model_name": "LayoutModel",
      "state": {}
     },
     "3af4807ae8e2496cadfd38516e99a598": {
      "model_module": "@jupyter-widgets/base",
      "model_module_version": "2.0.0",
      "model_name": "LayoutModel",
      "state": {}
     },
     "3b316f4c2d1c4a76956a3137a7a88b72": {
      "model_module": "@jupyter-widgets/base",
      "model_module_version": "2.0.0",
      "model_name": "LayoutModel",
      "state": {}
     },
     "3ba625cfc62c48ce8286714dc2d7c9b9": {
      "model_module": "@jupyter-widgets/base",
      "model_module_version": "2.0.0",
      "model_name": "LayoutModel",
      "state": {}
     },
     "3d43e9fe961f4db8920b834519b28d0b": {
      "model_module": "@jupyter-widgets/controls",
      "model_module_version": "2.0.0",
      "model_name": "ProgressStyleModel",
      "state": {
       "description_width": ""
      }
     },
     "3e69b8c587bd4a47bdbc29d803f61871": {
      "model_module": "@jupyter-widgets/controls",
      "model_module_version": "2.0.0",
      "model_name": "HTMLStyleModel",
      "state": {
       "description_width": "",
       "font_size": null,
       "text_color": null
      }
     },
     "3e79a1e93c414a51b6c7589f55e8a61e": {
      "model_module": "@jupyter-widgets/controls",
      "model_module_version": "2.0.0",
      "model_name": "HTMLModel",
      "state": {
       "layout": "IPY_MODEL_033449c0874045039f08843a4c197148",
       "style": "IPY_MODEL_31bfd6f677ff4b05a7cf4135d3e4d705",
       "value": " 7.67k/7.67k [00:00&lt;00:00, 165kB/s]"
      }
     },
     "3f2c6edc95fa4fcd9d6467dce9567ad6": {
      "model_module": "@jupyter-widgets/base",
      "model_module_version": "2.0.0",
      "model_name": "LayoutModel",
      "state": {}
     },
     "3f5d7cd0af014793840f62bf1aafdeb4": {
      "model_module": "@jupyter-widgets/controls",
      "model_module_version": "2.0.0",
      "model_name": "FloatProgressModel",
      "state": {
       "bar_style": "danger",
       "layout": "IPY_MODEL_33145e8036fe4b5d9438491dc620fe31",
       "max": 4,
       "style": "IPY_MODEL_eb60c52cb4564f46811fecdde400d504"
      }
     },
     "43bec1c6b4cf496c810794cdc299451b": {
      "model_module": "@jupyter-widgets/controls",
      "model_module_version": "2.0.0",
      "model_name": "FloatProgressModel",
      "state": {
       "bar_style": "success",
       "layout": "IPY_MODEL_3b316f4c2d1c4a76956a3137a7a88b72",
       "max": 1054280,
       "style": "IPY_MODEL_aad8f10f4ab04461b7309e73e822332d",
       "value": 1054280
      }
     },
     "442ba2bb868945ea9f0bf1f0cb9e2236": {
      "model_module": "@jupyter-widgets/base",
      "model_module_version": "2.0.0",
      "model_name": "LayoutModel",
      "state": {}
     },
     "4585af27ed5549bfbe0f5e484125c81a": {
      "model_module": "@jupyter-widgets/base",
      "model_module_version": "2.0.0",
      "model_name": "LayoutModel",
      "state": {}
     },
     "461e0bc8775c40fe8aa74172ff6f508c": {
      "model_module": "@jupyter-widgets/base",
      "model_module_version": "2.0.0",
      "model_name": "LayoutModel",
      "state": {}
     },
     "46506f8fd20e4fc69d722e0a7ddd3683": {
      "model_module": "@jupyter-widgets/controls",
      "model_module_version": "2.0.0",
      "model_name": "ProgressStyleModel",
      "state": {
       "description_width": ""
      }
     },
     "46a957cc281042d2bbcb766cc0ffc41c": {
      "model_module": "@jupyter-widgets/controls",
      "model_module_version": "2.0.0",
      "model_name": "HBoxModel",
      "state": {
       "children": [
        "IPY_MODEL_f105740549d442dba71b77c7ff372b1a",
        "IPY_MODEL_e7c8e09329e34e7b8e6938bdb87522e8",
        "IPY_MODEL_73a34c5fbfeb425fa5ebe6a851ad8af2"
       ],
       "layout": "IPY_MODEL_84d289aaacb547b998ce4ddec058055f"
      }
     },
     "4885a4b34bc0469f81452b14118d886e": {
      "model_module": "@jupyter-widgets/controls",
      "model_module_version": "2.0.0",
      "model_name": "HTMLModel",
      "state": {
       "layout": "IPY_MODEL_ccdf4d25ec324d11bfbd2f1e7e22f156",
       "style": "IPY_MODEL_0db1e93f3be043a0a0f8259e4a2857de",
       "value": " 2/2 [00:01&lt;00:00,  1.41it/s]"
      }
     },
     "48a3a64a9337438a869dff7465e1a41e": {
      "model_module": "@jupyter-widgets/controls",
      "model_module_version": "2.0.0",
      "model_name": "HBoxModel",
      "state": {
       "children": [
        "IPY_MODEL_222a778ce3bb4305aa300ef7953587f2",
        "IPY_MODEL_48fcd67e014c4830a34f7ff5deb0b550",
        "IPY_MODEL_883e2af4b6b34c1691d11b0e9d1f58ee"
       ],
       "layout": "IPY_MODEL_e411860ea0f4474499f0b62e60cbfdcb"
      }
     },
     "48fcd67e014c4830a34f7ff5deb0b550": {
      "model_module": "@jupyter-widgets/controls",
      "model_module_version": "2.0.0",
      "model_name": "FloatProgressModel",
      "state": {
       "bar_style": "danger",
       "layout": "IPY_MODEL_767b902ba56341b98c447b9ec354eca4",
       "max": 4,
       "style": "IPY_MODEL_80017180dbf14834989f3f12b9f57485"
      }
     },
     "4989c4b644aa4f4bbef5d490d97bed79": {
      "model_module": "@jupyter-widgets/controls",
      "model_module_version": "2.0.0",
      "model_name": "FloatProgressModel",
      "state": {
       "bar_style": "danger",
       "layout": "IPY_MODEL_3a055636a9fe46ac813b712f8b8ff6be",
       "max": 4,
       "style": "IPY_MODEL_5f79a5429ef841f2b9bb7799b3b39b0e"
      }
     },
     "4a85f3059ea3459e876a1af6ca3020c3": {
      "model_module": "@jupyter-widgets/base",
      "model_module_version": "2.0.0",
      "model_name": "LayoutModel",
      "state": {}
     },
     "4c6da8060f2a432db1a0df5a077b3160": {
      "model_module": "@jupyter-widgets/controls",
      "model_module_version": "2.0.0",
      "model_name": "FloatProgressModel",
      "state": {
       "bar_style": "success",
       "layout": "IPY_MODEL_fa4ecb7b29754fe1af894cfdf6aacc58",
       "max": 2,
       "style": "IPY_MODEL_dc29e7d8961649738203caa00c6b0e92",
       "value": 2
      }
     },
     "4ced2b5f062f428eaceec5ea7462909d": {
      "model_module": "@jupyter-widgets/controls",
      "model_module_version": "2.0.0",
      "model_name": "HTMLModel",
      "state": {
       "layout": "IPY_MODEL_fc62b6aa2b7845e3a4572086cfee6fbc",
       "style": "IPY_MODEL_555de9a42b8e4c42a2f85352c3932db1",
       "value": " 0/4 [00:00&lt;?, ?ba/s]"
      }
     },
     "4cf5505ad2614141b24e1cb823b52fc2": {
      "model_module": "@jupyter-widgets/controls",
      "model_module_version": "2.0.0",
      "model_name": "HBoxModel",
      "state": {
       "children": [
        "IPY_MODEL_a6b0bb7aacf545e28cb93f20345c890a",
        "IPY_MODEL_ba2823d35cb14a198ae28da7b6b5a494",
        "IPY_MODEL_afe856cbace240718a1e3a8c90464976"
       ],
       "layout": "IPY_MODEL_8bfbf451f45342d3832c4efe729a90a2"
      }
     },
     "4e5409f0a50a4eac8d11c7cf343e76cf": {
      "model_module": "@jupyter-widgets/controls",
      "model_module_version": "2.0.0",
      "model_name": "HBoxModel",
      "state": {
       "children": [
        "IPY_MODEL_e69f69a23382492883b67f8a7f3f49ad",
        "IPY_MODEL_dbc28d6739c04ab6afc62aef60bc57e2",
        "IPY_MODEL_8379bbe4c3f6404692e9ca991de93ffb"
       ],
       "layout": "IPY_MODEL_5dbc7e92fc24434ca69217ff15b5a313"
      }
     },
     "4eafc592ef76487696a829684fa9882e": {
      "model_module": "@jupyter-widgets/controls",
      "model_module_version": "2.0.0",
      "model_name": "FloatProgressModel",
      "state": {
       "bar_style": "danger",
       "layout": "IPY_MODEL_e40d30ca752548989269368cbbbc79e9",
       "max": 8,
       "style": "IPY_MODEL_596151a8f4f44797bce04bac6538fa34"
      }
     },
     "4f754d5bcb4d4fbab9e804d86e838a65": {
      "model_module": "@jupyter-widgets/base",
      "model_module_version": "2.0.0",
      "model_name": "LayoutModel",
      "state": {}
     },
     "4fa5ee09efbc400784176a44a1345f6f": {
      "model_module": "@jupyter-widgets/controls",
      "model_module_version": "2.0.0",
      "model_name": "FloatProgressModel",
      "state": {
       "bar_style": "danger",
       "layout": "IPY_MODEL_92cddf4f85014e6a934f19171d3346b3",
       "max": 4,
       "style": "IPY_MODEL_a5a84083e44b4c649553c09ca90ff8c1"
      }
     },
     "5069a43dece345bcaae35542bcc4ae22": {
      "model_module": "@jupyter-widgets/base",
      "model_module_version": "2.0.0",
      "model_name": "LayoutModel",
      "state": {}
     },
     "51a49b43451a43de8d91b20aa7fd3f2b": {
      "model_module": "@jupyter-widgets/controls",
      "model_module_version": "2.0.0",
      "model_name": "HTMLStyleModel",
      "state": {
       "description_width": "",
       "font_size": null,
       "text_color": null
      }
     },
     "51ae77312d0a47e1b80ee2bea86f8cd4": {
      "model_module": "@jupyter-widgets/controls",
      "model_module_version": "2.0.0",
      "model_name": "HTMLModel",
      "state": {
       "layout": "IPY_MODEL_73e453d719a0468f8b927c608753bf4e",
       "style": "IPY_MODEL_55a42a23ce944eec98f66d0f706fc35b",
       "value": " 0/4 [00:00&lt;?, ?ba/s]"
      }
     },
     "525bde07c66f419e9340de74e0cd7a04": {
      "model_module": "@jupyter-widgets/controls",
      "model_module_version": "2.0.0",
      "model_name": "HTMLStyleModel",
      "state": {
       "description_width": "",
       "font_size": null,
       "text_color": null
      }
     },
     "52fed7c3d06140e6a819a894f4e3be49": {
      "model_module": "@jupyter-widgets/base",
      "model_module_version": "2.0.0",
      "model_name": "LayoutModel",
      "state": {}
     },
     "530f4af118c94cba919cc8ae14ecc502": {
      "model_module": "@jupyter-widgets/controls",
      "model_module_version": "2.0.0",
      "model_name": "HTMLStyleModel",
      "state": {
       "description_width": "",
       "font_size": null,
       "text_color": null
      }
     },
     "53f6777af3bf4c11a6684201ec4cabc0": {
      "model_module": "@jupyter-widgets/base",
      "model_module_version": "2.0.0",
      "model_name": "LayoutModel",
      "state": {}
     },
     "555de9a42b8e4c42a2f85352c3932db1": {
      "model_module": "@jupyter-widgets/controls",
      "model_module_version": "2.0.0",
      "model_name": "HTMLStyleModel",
      "state": {
       "description_width": "",
       "font_size": null,
       "text_color": null
      }
     },
     "55a42a23ce944eec98f66d0f706fc35b": {
      "model_module": "@jupyter-widgets/controls",
      "model_module_version": "2.0.0",
      "model_name": "HTMLStyleModel",
      "state": {
       "description_width": "",
       "font_size": null,
       "text_color": null
      }
     },
     "55aab542a277448299d5a5cd7c50f303": {
      "model_module": "@jupyter-widgets/base",
      "model_module_version": "2.0.0",
      "model_name": "LayoutModel",
      "state": {}
     },
     "55b1f45e564f4d638c5ee949159629a6": {
      "model_module": "@jupyter-widgets/base",
      "model_module_version": "2.0.0",
      "model_name": "LayoutModel",
      "state": {}
     },
     "55c2502a29f34950b6d4be087d4ec655": {
      "model_module": "@jupyter-widgets/controls",
      "model_module_version": "2.0.0",
      "model_name": "FloatProgressModel",
      "state": {
       "layout": "IPY_MODEL_bfb5561446af49bba9595b87909705b4",
       "max": 87599,
       "style": "IPY_MODEL_9ff7160d4d51453e8714e7ab47f5e094",
       "value": 87599
      }
     },
     "56eef6b2a8314a4cad85f53535749236": {
      "model_module": "@jupyter-widgets/controls",
      "model_module_version": "2.0.0",
      "model_name": "HTMLModel",
      "state": {
       "layout": "IPY_MODEL_0aa73e4862e14159b044d4ad281733ca",
       "style": "IPY_MODEL_f9a79c47a12146448ab57f00767fd6b7",
       "value": " 0/4 [00:00&lt;?, ?ba/s]"
      }
     },
     "5768c7fd3be546aa86ea288bbfd1b4ca": {
      "model_module": "@jupyter-widgets/base",
      "model_module_version": "2.0.0",
      "model_name": "LayoutModel",
      "state": {}
     },
     "5774778bd2264bcaa59c93262395d483": {
      "model_module": "@jupyter-widgets/controls",
      "model_module_version": "2.0.0",
      "model_name": "HTMLModel",
      "state": {
       "layout": "IPY_MODEL_55b1f45e564f4d638c5ee949159629a6",
       "style": "IPY_MODEL_f0a00897e1a9465d8b067a6410cc172d",
       "value": " 30.3M/? [00:00&lt;00:00, 72.7MB/s]"
      }
     },
     "58add672b717408cb25076a45541b7fc": {
      "model_module": "@jupyter-widgets/controls",
      "model_module_version": "2.0.0",
      "model_name": "HTMLModel",
      "state": {
       "layout": "IPY_MODEL_71bc44f3556444b1b074e2bb3c982f99",
       "style": "IPY_MODEL_a58bc9ffb63e4d2b950543c426006bc4",
       "value": " 2.36k/2.36k [00:00&lt;00:00, 73.5kB/s]"
      }
     },
     "596151a8f4f44797bce04bac6538fa34": {
      "model_module": "@jupyter-widgets/controls",
      "model_module_version": "2.0.0",
      "model_name": "ProgressStyleModel",
      "state": {
       "description_width": ""
      }
     },
     "5a20a918632d4c43b0aefac0d8e6e656": {
      "model_module": "@jupyter-widgets/controls",
      "model_module_version": "2.0.0",
      "model_name": "HTMLModel",
      "state": {
       "layout": "IPY_MODEL_a9c828ae37f04abb9861fbb9da2b8d9a",
       "style": "IPY_MODEL_3e69b8c587bd4a47bdbc29d803f61871",
       "value": " 0/4 [00:00&lt;?, ?ba/s]"
      }
     },
     "5a404b1b99e04133b7ee6c7bd950238e": {
      "model_module": "@jupyter-widgets/controls",
      "model_module_version": "2.0.0",
      "model_name": "HTMLModel",
      "state": {
       "layout": "IPY_MODEL_cdcfe798b76a4fc89b19cc08317ff10a",
       "style": "IPY_MODEL_2438f705a7524b6f941af9dfcaa6e056",
       "value": " 0/4 [00:00&lt;?, ?ba/s]"
      }
     },
     "5a83a5ecfd5c4004884a5876ef315743": {
      "model_module": "@jupyter-widgets/controls",
      "model_module_version": "2.0.0",
      "model_name": "HTMLStyleModel",
      "state": {
       "description_width": "",
       "font_size": null,
       "text_color": null
      }
     },
     "5aa14773bf634115ae7653b80701b113": {
      "model_module": "@jupyter-widgets/controls",
      "model_module_version": "2.0.0",
      "model_name": "ProgressStyleModel",
      "state": {
       "description_width": ""
      }
     },
     "5bcb16dfb42346d6b13bb274bf488a0e": {
      "model_module": "@jupyter-widgets/controls",
      "model_module_version": "2.0.0",
      "model_name": "HTMLStyleModel",
      "state": {
       "description_width": "",
       "font_size": null,
       "text_color": null
      }
     },
     "5c26eaa5c87b4369b454fdd52230826d": {
      "model_module": "@jupyter-widgets/controls",
      "model_module_version": "2.0.0",
      "model_name": "HTMLStyleModel",
      "state": {
       "description_width": "",
       "font_size": null,
       "text_color": null
      }
     },
     "5dbc7e92fc24434ca69217ff15b5a313": {
      "model_module": "@jupyter-widgets/base",
      "model_module_version": "2.0.0",
      "model_name": "LayoutModel",
      "state": {}
     },
     "5f79a5429ef841f2b9bb7799b3b39b0e": {
      "model_module": "@jupyter-widgets/controls",
      "model_module_version": "2.0.0",
      "model_name": "ProgressStyleModel",
      "state": {
       "description_width": ""
      }
     },
     "5ffb84d0b5104d0388241b3cc734c2a6": {
      "model_module": "@jupyter-widgets/controls",
      "model_module_version": "2.0.0",
      "model_name": "ProgressStyleModel",
      "state": {
       "description_width": ""
      }
     },
     "61bb5d2b77ef411587ce6453974ccd85": {
      "model_module": "@jupyter-widgets/controls",
      "model_module_version": "2.0.0",
      "model_name": "HBoxModel",
      "state": {
       "children": [
        "IPY_MODEL_26a5699d2f0a4745ac77cf261c4e3e8b",
        "IPY_MODEL_a3215e5499314db1b5f433d4887f5a24",
        "IPY_MODEL_7affa7bd396243aab0e40674d2420dc5"
       ],
       "layout": "IPY_MODEL_30caafbc300b4045b9782807dcaaf5f3"
      }
     },
     "64c35dd107b4438e94fee2201bd97be9": {
      "model_module": "@jupyter-widgets/controls",
      "model_module_version": "2.0.0",
      "model_name": "HBoxModel",
      "state": {
       "children": [
        "IPY_MODEL_dc471b8f3e2e49cda582575ec400f355",
        "IPY_MODEL_e2460c8bd2bc4b1fa82be1ef578808ac",
        "IPY_MODEL_56eef6b2a8314a4cad85f53535749236"
       ],
       "layout": "IPY_MODEL_97102d87b3254dba8a8c0bfb6c5e1b5c"
      }
     },
     "67d7c4775b9e4e2bad2ba774955cc065": {
      "model_module": "@jupyter-widgets/controls",
      "model_module_version": "2.0.0",
      "model_name": "HBoxModel",
      "state": {
       "children": [
        "IPY_MODEL_8d03f8c2d15847f4b9edb613d5c3db36",
        "IPY_MODEL_955fe3276a254f3398eb407895a994b0",
        "IPY_MODEL_51ae77312d0a47e1b80ee2bea86f8cd4"
       ],
       "layout": "IPY_MODEL_355aa574ce21441898f5b020701a29ce"
      }
     },
     "68f445cff2e84d439262c2b97d99131a": {
      "model_module": "@jupyter-widgets/controls",
      "model_module_version": "2.0.0",
      "model_name": "HTMLModel",
      "state": {
       "layout": "IPY_MODEL_35e1b3f713a742e3a0ef70ab33ced165",
       "style": "IPY_MODEL_e7c5793466cb4ca78e5dfaee909bc51c",
       "value": "  0%"
      }
     },
     "6948265e3294441a95eecce63176152e": {
      "model_module": "@jupyter-widgets/controls",
      "model_module_version": "2.0.0",
      "model_name": "ProgressStyleModel",
      "state": {
       "description_width": ""
      }
     },
     "69e7101521924e81a829721fe7f808b1": {
      "model_module": "@jupyter-widgets/controls",
      "model_module_version": "2.0.0",
      "model_name": "HTMLModel",
      "state": {
       "layout": "IPY_MODEL_d829f419393f41d38b9974c9ef94ad0b",
       "style": "IPY_MODEL_5bcb16dfb42346d6b13bb274bf488a0e",
       "value": " 0/8 [00:00&lt;?, ?ba/s]"
      }
     },
     "6a81228923ed44fda7a1d7f2c96c62ef": {
      "model_module": "@jupyter-widgets/base",
      "model_module_version": "2.0.0",
      "model_name": "LayoutModel",
      "state": {}
     },
     "6b83a702b046484ca125d32c8a303099": {
      "model_module": "@jupyter-widgets/controls",
      "model_module_version": "2.0.0",
      "model_name": "FloatProgressModel",
      "state": {
       "bar_style": "danger",
       "layout": "IPY_MODEL_3668f3febb8d47f98299a7cb2ad80f32",
       "max": 4,
       "style": "IPY_MODEL_ee17491adbad47979bce1d75aaa93e48"
      }
     },
     "6d23b84478c946f786e716247e9f7985": {
      "model_module": "@jupyter-widgets/controls",
      "model_module_version": "2.0.0",
      "model_name": "HTMLModel",
      "state": {
       "layout": "IPY_MODEL_f57f971b30414811b4869992dd82aec8",
       "style": "IPY_MODEL_530f4af118c94cba919cc8ae14ecc502",
       "value": "Generating validation split: 100%"
      }
     },
     "6da8f9629ea9474d8b6ea62cd7b5327d": {
      "model_module": "@jupyter-widgets/controls",
      "model_module_version": "2.0.0",
      "model_name": "HTMLModel",
      "state": {
       "layout": "IPY_MODEL_53f6777af3bf4c11a6684201ec4cabc0",
       "style": "IPY_MODEL_ed085758fd0143998f3cb5247c43bb42",
       "value": "  0%"
      }
     },
     "6e46da951b7b4145b142122f1d0f4952": {
      "model_module": "@jupyter-widgets/controls",
      "model_module_version": "2.0.0",
      "model_name": "FloatProgressModel",
      "state": {
       "bar_style": "danger",
       "layout": "IPY_MODEL_959621f59c44411e9f8ed5643f444aff",
       "max": 1,
       "style": "IPY_MODEL_c29bafafeb4242adb920d18388f6f38d"
      }
     },
     "6fb5becae45b4645933d21617ced1738": {
      "model_module": "@jupyter-widgets/base",
      "model_module_version": "2.0.0",
      "model_name": "LayoutModel",
      "state": {}
     },
     "71ad287785804d77bac17f84088a31e1": {
      "model_module": "@jupyter-widgets/base",
      "model_module_version": "2.0.0",
      "model_name": "LayoutModel",
      "state": {}
     },
     "71bc44f3556444b1b074e2bb3c982f99": {
      "model_module": "@jupyter-widgets/base",
      "model_module_version": "2.0.0",
      "model_name": "LayoutModel",
      "state": {}
     },
     "71c7900c71914c6ea14db0af88aa32e5": {
      "model_module": "@jupyter-widgets/controls",
      "model_module_version": "2.0.0",
      "model_name": "HTMLStyleModel",
      "state": {
       "description_width": "",
       "font_size": null,
       "text_color": null
      }
     },
     "720419fe309e4d54b4abcf1e6db4934a": {
      "model_module": "@jupyter-widgets/controls",
      "model_module_version": "2.0.0",
      "model_name": "ProgressStyleModel",
      "state": {
       "description_width": ""
      }
     },
     "7254b5c9f3a14c859e2c6d765c2e4b87": {
      "model_module": "@jupyter-widgets/controls",
      "model_module_version": "2.0.0",
      "model_name": "HBoxModel",
      "state": {
       "children": [
        "IPY_MODEL_d0d12dbc979e428183dc47293733f4c2",
        "IPY_MODEL_6e46da951b7b4145b142122f1d0f4952",
        "IPY_MODEL_a87d0222f41b4d89a67324a0d06e43e3"
       ],
       "layout": "IPY_MODEL_5069a43dece345bcaae35542bcc4ae22"
      }
     },
     "73a34c5fbfeb425fa5ebe6a851ad8af2": {
      "model_module": "@jupyter-widgets/controls",
      "model_module_version": "2.0.0",
      "model_name": "HTMLModel",
      "state": {
       "layout": "IPY_MODEL_4585af27ed5549bfbe0f5e484125c81a",
       "style": "IPY_MODEL_51a49b43451a43de8d91b20aa7fd3f2b",
       "value": " 0/4 [00:00&lt;?, ?ba/s]"
      }
     },
     "73e453d719a0468f8b927c608753bf4e": {
      "model_module": "@jupyter-widgets/base",
      "model_module_version": "2.0.0",
      "model_name": "LayoutModel",
      "state": {}
     },
     "7498805376b341ff8a444074891dd656": {
      "model_module": "@jupyter-widgets/controls",
      "model_module_version": "2.0.0",
      "model_name": "HTMLStyleModel",
      "state": {
       "description_width": "",
       "font_size": null,
       "text_color": null
      }
     },
     "76203f2022e040edbf69b10e0f78588d": {
      "model_module": "@jupyter-widgets/controls",
      "model_module_version": "2.0.0",
      "model_name": "HTMLStyleModel",
      "state": {
       "description_width": "",
       "font_size": null,
       "text_color": null
      }
     },
     "767b902ba56341b98c447b9ec354eca4": {
      "model_module": "@jupyter-widgets/base",
      "model_module_version": "2.0.0",
      "model_name": "LayoutModel",
      "state": {}
     },
     "780d91d74546409491bb2ff7a631fa57": {
      "model_module": "@jupyter-widgets/base",
      "model_module_version": "2.0.0",
      "model_name": "LayoutModel",
      "state": {}
     },
     "78351b24e77b420680dbc3870878f993": {
      "model_module": "@jupyter-widgets/base",
      "model_module_version": "2.0.0",
      "model_name": "LayoutModel",
      "state": {}
     },
     "7ad7f614cd924494af7fbf1a7ae86eed": {
      "model_module": "@jupyter-widgets/controls",
      "model_module_version": "2.0.0",
      "model_name": "HTMLModel",
      "state": {
       "layout": "IPY_MODEL_442ba2bb868945ea9f0bf1f0cb9e2236",
       "style": "IPY_MODEL_995b9d2e11794675a0ff5fdf554e07c3",
       "value": "Downloading builder script: 100%"
      }
     },
     "7ae1dec5790f4158ae974c44b9a2791d": {
      "model_module": "@jupyter-widgets/controls",
      "model_module_version": "2.0.0",
      "model_name": "FloatProgressModel",
      "state": {
       "bar_style": "danger",
       "layout": "IPY_MODEL_f3176ce503004193855748da9b42db8f",
       "max": 4,
       "style": "IPY_MODEL_5ffb84d0b5104d0388241b3cc734c2a6"
      }
     },
     "7affa7bd396243aab0e40674d2420dc5": {
      "model_module": "@jupyter-widgets/controls",
      "model_module_version": "2.0.0",
      "model_name": "HTMLModel",
      "state": {
       "layout": "IPY_MODEL_7d049a0c650e4f5bae8a65186c1686ff",
       "style": "IPY_MODEL_03efd06e4ed240ffbf93bfd8a0ef37c6",
       "value": " 0/4 [00:00&lt;?, ?ba/s]"
      }
     },
     "7ca6d8b28c374970884df09c1974413c": {
      "model_module": "@jupyter-widgets/controls",
      "model_module_version": "2.0.0",
      "model_name": "ProgressStyleModel",
      "state": {
       "description_width": ""
      }
     },
     "7d049a0c650e4f5bae8a65186c1686ff": {
      "model_module": "@jupyter-widgets/base",
      "model_module_version": "2.0.0",
      "model_name": "LayoutModel",
      "state": {}
     },
     "7d0899d095d8478893d8ee46fb62bdf0": {
      "model_module": "@jupyter-widgets/controls",
      "model_module_version": "2.0.0",
      "model_name": "HBoxModel",
      "state": {
       "children": [
        "IPY_MODEL_8029028918e248b99c714b886e812c4b",
        "IPY_MODEL_6b83a702b046484ca125d32c8a303099",
        "IPY_MODEL_9b52330f6090442f876800323b65fb1e"
       ],
       "layout": "IPY_MODEL_aba81e54c88c41d39e673d9b24eeb04f"
      }
     },
     "7d37185ed42a485581cbefbef7dbcabe": {
      "model_module": "@jupyter-widgets/controls",
      "model_module_version": "2.0.0",
      "model_name": "HTMLModel",
      "state": {
       "layout": "IPY_MODEL_0732fc7af4c94ec882661fd2e441057b",
       "style": "IPY_MODEL_839ee6c4be5849c3b3699d2cd4181165",
       "value": " 5.27k/5.27k [00:00&lt;00:00, 175kB/s]"
      }
     },
     "7f04cfc042c64c3c854694d2abcb1bd0": {
      "model_module": "@jupyter-widgets/controls",
      "model_module_version": "2.0.0",
      "model_name": "HTMLStyleModel",
      "state": {
       "description_width": "",
       "font_size": null,
       "text_color": null
      }
     },
     "7f5c4720e775426e8b7ba022584a5564": {
      "model_module": "@jupyter-widgets/base",
      "model_module_version": "2.0.0",
      "model_name": "LayoutModel",
      "state": {}
     },
     "80017180dbf14834989f3f12b9f57485": {
      "model_module": "@jupyter-widgets/controls",
      "model_module_version": "2.0.0",
      "model_name": "ProgressStyleModel",
      "state": {
       "description_width": ""
      }
     },
     "800f5aaafc5946c089e50dd058489304": {
      "model_module": "@jupyter-widgets/controls",
      "model_module_version": "2.0.0",
      "model_name": "HTMLStyleModel",
      "state": {
       "description_width": "",
       "font_size": null,
       "text_color": null
      }
     },
     "8029028918e248b99c714b886e812c4b": {
      "model_module": "@jupyter-widgets/controls",
      "model_module_version": "2.0.0",
      "model_name": "HTMLModel",
      "state": {
       "layout": "IPY_MODEL_a30478d3d95d4d5297514237c48ae63d",
       "style": "IPY_MODEL_d2259f6f1470412bbed740eaaa2339b1",
       "value": "  0%"
      }
     },
     "825ea0f2dbdb4ae7aafd443f62a58c9a": {
      "model_module": "@jupyter-widgets/controls",
      "model_module_version": "2.0.0",
      "model_name": "HTMLModel",
      "state": {
       "layout": "IPY_MODEL_38b69fdbdf2f40cf81aeae7fc6dc6d13",
       "style": "IPY_MODEL_5a83a5ecfd5c4004884a5876ef315743",
       "value": " 87599/87599 [00:25&lt;00:00, 10015.75 examples/s]"
      }
     },
     "828aa40d3c734de398aab316f6fc899c": {
      "model_module": "@jupyter-widgets/base",
      "model_module_version": "2.0.0",
      "model_name": "LayoutModel",
      "state": {}
     },
     "82e9969b64a44401a039294a1119942e": {
      "model_module": "@jupyter-widgets/controls",
      "model_module_version": "2.0.0",
      "model_name": "HBoxModel",
      "state": {
       "children": [
        "IPY_MODEL_96bcbf0dbdc94ff49bb226b9bd3534e4",
        "IPY_MODEL_f531291b481a4fcdb512abd6cb674e30",
        "IPY_MODEL_5a404b1b99e04133b7ee6c7bd950238e"
       ],
       "layout": "IPY_MODEL_cf414e905c0d40018ba59a35d0bf0b28"
      }
     },
     "8379bbe4c3f6404692e9ca991de93ffb": {
      "model_module": "@jupyter-widgets/controls",
      "model_module_version": "2.0.0",
      "model_name": "HTMLModel",
      "state": {
       "layout": "IPY_MODEL_0e5d0fec216648c0bc752a7c573ca47c",
       "style": "IPY_MODEL_fcbdcfc70a04409a9ebc64cf66a4a43b",
       "value": " 0/4 [00:00&lt;?, ?ba/s]"
      }
     },
     "838f3c33239b425f932f3a4c4debd159": {
      "model_module": "@jupyter-widgets/base",
      "model_module_version": "2.0.0",
      "model_name": "LayoutModel",
      "state": {}
     },
     "839ee6c4be5849c3b3699d2cd4181165": {
      "model_module": "@jupyter-widgets/controls",
      "model_module_version": "2.0.0",
      "model_name": "HTMLStyleModel",
      "state": {
       "description_width": "",
       "font_size": null,
       "text_color": null
      }
     },
     "84d289aaacb547b998ce4ddec058055f": {
      "model_module": "@jupyter-widgets/base",
      "model_module_version": "2.0.0",
      "model_name": "LayoutModel",
      "state": {}
     },
     "854fe67be5be464b90e3ebd3cb2418f0": {
      "model_module": "@jupyter-widgets/base",
      "model_module_version": "2.0.0",
      "model_name": "LayoutModel",
      "state": {}
     },
     "865d3bab215441589a3677c2998a8713": {
      "model_module": "@jupyter-widgets/controls",
      "model_module_version": "2.0.0",
      "model_name": "FloatProgressModel",
      "state": {
       "bar_style": "success",
       "layout": "IPY_MODEL_461e0bc8775c40fe8aa74172ff6f508c",
       "max": 5274,
       "style": "IPY_MODEL_7ca6d8b28c374970884df09c1974413c",
       "value": 5274
      }
     },
     "869252b0882d4bd6956289f612c0e6a1": {
      "model_module": "@jupyter-widgets/controls",
      "model_module_version": "2.0.0",
      "model_name": "HTMLModel",
      "state": {
       "layout": "IPY_MODEL_b316a8bb725f45928f69985ae2da2b23",
       "style": "IPY_MODEL_dfe496a7c59c4a229ac243b5a293d85f",
       "value": "  0%"
      }
     },
     "870f676eb0684528945ae6967e775d52": {
      "model_module": "@jupyter-widgets/controls",
      "model_module_version": "2.0.0",
      "model_name": "ProgressStyleModel",
      "state": {
       "description_width": ""
      }
     },
     "883e2af4b6b34c1691d11b0e9d1f58ee": {
      "model_module": "@jupyter-widgets/controls",
      "model_module_version": "2.0.0",
      "model_name": "HTMLModel",
      "state": {
       "layout": "IPY_MODEL_35217e9358f04bf4b00b8bd8b905ea9b",
       "style": "IPY_MODEL_32bd9021cdb34d2bb247863a51cbef04",
       "value": " 0/4 [00:00&lt;?, ?ba/s]"
      }
     },
     "894f70e39fc04652a43227fdd26f282a": {
      "model_module": "@jupyter-widgets/controls",
      "model_module_version": "2.0.0",
      "model_name": "HTMLStyleModel",
      "state": {
       "description_width": "",
       "font_size": null,
       "text_color": null
      }
     },
     "89d0b5b7a68740a98c535af05e6a9f25": {
      "model_module": "@jupyter-widgets/base",
      "model_module_version": "2.0.0",
      "model_name": "LayoutModel",
      "state": {}
     },
     "8a26f85a2d504e5c92cd53baf5715424": {
      "model_module": "@jupyter-widgets/base",
      "model_module_version": "2.0.0",
      "model_name": "LayoutModel",
      "state": {}
     },
     "8b0ea13dc95e4ce7909ca57389fe519b": {
      "model_module": "@jupyter-widgets/controls",
      "model_module_version": "2.0.0",
      "model_name": "HTMLModel",
      "state": {
       "layout": "IPY_MODEL_55aab542a277448299d5a5cd7c50f303",
       "style": "IPY_MODEL_15f8e0e3b5f148fb9250cab804475270",
       "value": "  0%"
      }
     },
     "8bfbf451f45342d3832c4efe729a90a2": {
      "model_module": "@jupyter-widgets/base",
      "model_module_version": "2.0.0",
      "model_name": "LayoutModel",
      "state": {}
     },
     "8d03f8c2d15847f4b9edb613d5c3db36": {
      "model_module": "@jupyter-widgets/controls",
      "model_module_version": "2.0.0",
      "model_name": "HTMLModel",
      "state": {
       "layout": "IPY_MODEL_780d91d74546409491bb2ff7a631fa57",
       "style": "IPY_MODEL_7498805376b341ff8a444074891dd656",
       "value": "  0%"
      }
     },
     "8d2bb3ecbf264917a4e072fe2f7718c3": {
      "model_module": "@jupyter-widgets/controls",
      "model_module_version": "2.0.0",
      "model_name": "HBoxModel",
      "state": {
       "children": [
        "IPY_MODEL_869252b0882d4bd6956289f612c0e6a1",
        "IPY_MODEL_2a9bc100e36144588a637a52d8eb3027",
        "IPY_MODEL_f3c85b04525243faa7680289a449d80f"
       ],
       "layout": "IPY_MODEL_4a85f3059ea3459e876a1af6ca3020c3"
      }
     },
     "8e51c8b7cef34b8e80b3969b798dfe37": {
      "model_module": "@jupyter-widgets/base",
      "model_module_version": "2.0.0",
      "model_name": "LayoutModel",
      "state": {}
     },
     "8ea01b7964ee4fe3843511aaacc15028": {
      "model_module": "@jupyter-widgets/controls",
      "model_module_version": "2.0.0",
      "model_name": "HTMLStyleModel",
      "state": {
       "description_width": "",
       "font_size": null,
       "text_color": null
      }
     },
     "9114ac891a5747a3aa4b724343588dca": {
      "model_module": "@jupyter-widgets/base",
      "model_module_version": "2.0.0",
      "model_name": "LayoutModel",
      "state": {}
     },
     "916b64a6311c4fa08d20160dd023e824": {
      "model_module": "@jupyter-widgets/controls",
      "model_module_version": "2.0.0",
      "model_name": "FloatProgressModel",
      "state": {
       "bar_style": "danger",
       "layout": "IPY_MODEL_91fae4d4f87f420c8322083041496948",
       "max": 4,
       "style": "IPY_MODEL_9b5f717c04754830b2929b7d8c62c079"
      }
     },
     "916fe215157d490e985f8e0276cfb99d": {
      "model_module": "@jupyter-widgets/base",
      "model_module_version": "2.0.0",
      "model_name": "LayoutModel",
      "state": {}
     },
     "91ef762a9fd7426ea8f4d6f20331b676": {
      "model_module": "@jupyter-widgets/controls",
      "model_module_version": "2.0.0",
      "model_name": "HTMLStyleModel",
      "state": {
       "description_width": "",
       "font_size": null,
       "text_color": null
      }
     },
     "91fae4d4f87f420c8322083041496948": {
      "model_module": "@jupyter-widgets/base",
      "model_module_version": "2.0.0",
      "model_name": "LayoutModel",
      "state": {}
     },
     "92358e883e5b4dfb9a352097ad292edc": {
      "model_module": "@jupyter-widgets/controls",
      "model_module_version": "2.0.0",
      "model_name": "HTMLModel",
      "state": {
       "layout": "IPY_MODEL_b6e9e88a240c4fe3bd14766dab50ec49",
       "style": "IPY_MODEL_02b8514a374a4cfb96ced4f74335b22f",
       "value": " 0/4 [00:00&lt;?, ?ba/s]"
      }
     },
     "92404cb5e0514727820eeba430c277d2": {
      "model_module": "@jupyter-widgets/controls",
      "model_module_version": "2.0.0",
      "model_name": "ProgressStyleModel",
      "state": {
       "description_width": ""
      }
     },
     "92cddf4f85014e6a934f19171d3346b3": {
      "model_module": "@jupyter-widgets/base",
      "model_module_version": "2.0.0",
      "model_name": "LayoutModel",
      "state": {}
     },
     "955fe3276a254f3398eb407895a994b0": {
      "model_module": "@jupyter-widgets/controls",
      "model_module_version": "2.0.0",
      "model_name": "FloatProgressModel",
      "state": {
       "bar_style": "danger",
       "layout": "IPY_MODEL_916fe215157d490e985f8e0276cfb99d",
       "max": 4,
       "style": "IPY_MODEL_46506f8fd20e4fc69d722e0a7ddd3683"
      }
     },
     "9572c2bbd6a14e9d8f2988c8decbe0ab": {
      "model_module": "@jupyter-widgets/controls",
      "model_module_version": "2.0.0",
      "model_name": "FloatProgressModel",
      "state": {
       "bar_style": "success",
       "layout": "IPY_MODEL_5768c7fd3be546aa86ea288bbfd1b4ca",
       "max": 8116577,
       "style": "IPY_MODEL_0e76d19cb1df40a195a2ce251e4a2092",
       "value": 8116577
      }
     },
     "959621f59c44411e9f8ed5643f444aff": {
      "model_module": "@jupyter-widgets/base",
      "model_module_version": "2.0.0",
      "model_name": "LayoutModel",
      "state": {}
     },
     "95a19bef58094a45af1459aa9e17985e": {
      "model_module": "@jupyter-widgets/base",
      "model_module_version": "2.0.0",
      "model_name": "LayoutModel",
      "state": {}
     },
     "964d11b785ac4f859e9f22d07e722303": {
      "model_module": "@jupyter-widgets/controls",
      "model_module_version": "2.0.0",
      "model_name": "ProgressStyleModel",
      "state": {
       "description_width": ""
      }
     },
     "96bcbf0dbdc94ff49bb226b9bd3534e4": {
      "model_module": "@jupyter-widgets/controls",
      "model_module_version": "2.0.0",
      "model_name": "HTMLModel",
      "state": {
       "layout": "IPY_MODEL_209f53d7343144ac82ce536770d5c5a5",
       "style": "IPY_MODEL_efcfbe9838f54b0f8a1d68459c91165b",
       "value": "  0%"
      }
     },
     "96c53aa793c043078ba6d7f9e902ed6e": {
      "model_module": "@jupyter-widgets/controls",
      "model_module_version": "2.0.0",
      "model_name": "HBoxModel",
      "state": {
       "children": [
        "IPY_MODEL_38a270ae465944d1b8a28cfd9bf2bddb",
        "IPY_MODEL_d1e77f58051e48b4b9e304bcb1b2220b",
        "IPY_MODEL_c4bf50c1ae8b41f9806b61cf4c9b3867"
       ],
       "layout": "IPY_MODEL_27483df21b39445b93d4664291c10427"
      }
     },
     "97102d87b3254dba8a8c0bfb6c5e1b5c": {
      "model_module": "@jupyter-widgets/base",
      "model_module_version": "2.0.0",
      "model_name": "LayoutModel",
      "state": {}
     },
     "976769b52dc44b6fa1810ee4cf7814c4": {
      "model_module": "@jupyter-widgets/controls",
      "model_module_version": "2.0.0",
      "model_name": "HBoxModel",
      "state": {
       "children": [
        "IPY_MODEL_10c717f56abe487f85ce6345984548ba",
        "IPY_MODEL_b513be77b49140c8a016b258683e5500",
        "IPY_MODEL_2a39e91d9f1d4a52a53a5e2ec7852831"
       ],
       "layout": "IPY_MODEL_e36df293da9e450c848ae716144a3f6d"
      }
     },
     "986eca6464304c6483d581b8f5a32733": {
      "model_module": "@jupyter-widgets/base",
      "model_module_version": "2.0.0",
      "model_name": "LayoutModel",
      "state": {}
     },
     "9928bd94ef514cc8a2a0f7b3bae3f791": {
      "model_module": "@jupyter-widgets/base",
      "model_module_version": "2.0.0",
      "model_name": "LayoutModel",
      "state": {}
     },
     "992eacd8992449f192410ef6a36e4f34": {
      "model_module": "@jupyter-widgets/controls",
      "model_module_version": "2.0.0",
      "model_name": "HTMLStyleModel",
      "state": {
       "description_width": "",
       "font_size": null,
       "text_color": null
      }
     },
     "995b9d2e11794675a0ff5fdf554e07c3": {
      "model_module": "@jupyter-widgets/controls",
      "model_module_version": "2.0.0",
      "model_name": "HTMLStyleModel",
      "state": {
       "description_width": "",
       "font_size": null,
       "text_color": null
      }
     },
     "9b52330f6090442f876800323b65fb1e": {
      "model_module": "@jupyter-widgets/controls",
      "model_module_version": "2.0.0",
      "model_name": "HTMLModel",
      "state": {
       "layout": "IPY_MODEL_3ba625cfc62c48ce8286714dc2d7c9b9",
       "style": "IPY_MODEL_1d7468965c4940c6b725a3ab953431fe",
       "value": " 0/4 [00:00&lt;?, ?ba/s]"
      }
     },
     "9b5f717c04754830b2929b7d8c62c079": {
      "model_module": "@jupyter-widgets/controls",
      "model_module_version": "2.0.0",
      "model_name": "ProgressStyleModel",
      "state": {
       "description_width": ""
      }
     },
     "9bb6ca7edb17413e9788d7c28a2e5c78": {
      "model_module": "@jupyter-widgets/controls",
      "model_module_version": "2.0.0",
      "model_name": "HTMLStyleModel",
      "state": {
       "description_width": "",
       "font_size": null,
       "text_color": null
      }
     },
     "9d84e710ebf34d2088441366d57335c0": {
      "model_module": "@jupyter-widgets/controls",
      "model_module_version": "2.0.0",
      "model_name": "HTMLModel",
      "state": {
       "layout": "IPY_MODEL_ca34324beb2649b5976fb066ee8d1d20",
       "style": "IPY_MODEL_b23ad71a7b1b417e96459fc87866c520",
       "value": "Downloading metadata: 100%"
      }
     },
     "9e5f01f7589c447d855040c5f7528221": {
      "model_module": "@jupyter-widgets/controls",
      "model_module_version": "2.0.0",
      "model_name": "ProgressStyleModel",
      "state": {
       "description_width": ""
      }
     },
     "9ec1b38f58e649b2a0ef0d9d1b936daa": {
      "model_module": "@jupyter-widgets/controls",
      "model_module_version": "2.0.0",
      "model_name": "HTMLStyleModel",
      "state": {
       "description_width": "",
       "font_size": null,
       "text_color": null
      }
     },
     "9ee8e3a3a3bc4bb0bed0811fdaccde6d": {
      "model_module": "@jupyter-widgets/controls",
      "model_module_version": "2.0.0",
      "model_name": "HBoxModel",
      "state": {
       "children": [
        "IPY_MODEL_2fb3186169134076b91fb47b2dc391f6",
        "IPY_MODEL_4989c4b644aa4f4bbef5d490d97bed79",
        "IPY_MODEL_0c7c9ae1184f4e4db272703611b1e7f9"
       ],
       "layout": "IPY_MODEL_1e98505a5cf54ae79b1f737faa241f58"
      }
     },
     "9f5b1ff6ed84455787f6300036c3f116": {
      "model_module": "@jupyter-widgets/controls",
      "model_module_version": "2.0.0",
      "model_name": "HBoxModel",
      "state": {
       "children": [
        "IPY_MODEL_e2397b2832b948058f4b03cf734447ed",
        "IPY_MODEL_be01c1b9bbdc46959e9f1d2ad373fe75",
        "IPY_MODEL_3ad2b931ad6f4d05bec10a6d636342d5"
       ],
       "layout": "IPY_MODEL_3ad4cfabb705412f916db397c5e9715d"
      }
     },
     "9ff7160d4d51453e8714e7ab47f5e094": {
      "model_module": "@jupyter-widgets/controls",
      "model_module_version": "2.0.0",
      "model_name": "ProgressStyleModel",
      "state": {
       "description_width": ""
      }
     },
     "a0c76b4552184d3098abc4d45853db6a": {
      "model_module": "@jupyter-widgets/controls",
      "model_module_version": "2.0.0",
      "model_name": "HTMLModel",
      "state": {
       "layout": "IPY_MODEL_a6e4431a666a40ba82824e53b7fe0a07",
       "style": "IPY_MODEL_f0be10d836d74537b8fbe3c30267d652",
       "value": " 0/4 [00:00&lt;?, ?ba/s]"
      }
     },
     "a0d99093fbb345ddb94e9f2185600954": {
      "model_module": "@jupyter-widgets/base",
      "model_module_version": "2.0.0",
      "model_name": "LayoutModel",
      "state": {}
     },
     "a2d9629c6b754b9ebefeec4939bd7925": {
      "model_module": "@jupyter-widgets/controls",
      "model_module_version": "2.0.0",
      "model_name": "ProgressStyleModel",
      "state": {
       "description_width": ""
      }
     },
     "a30478d3d95d4d5297514237c48ae63d": {
      "model_module": "@jupyter-widgets/base",
      "model_module_version": "2.0.0",
      "model_name": "LayoutModel",
      "state": {}
     },
     "a3071860a9d546d28eb9b3a7e4af6efd": {
      "model_module": "@jupyter-widgets/controls",
      "model_module_version": "2.0.0",
      "model_name": "HTMLModel",
      "state": {
       "layout": "IPY_MODEL_1d08e5a116d346889b36878e14ce6ffb",
       "style": "IPY_MODEL_36227887cff54935b719f2301abaceff",
       "value": "Downloading data: "
      }
     },
     "a3215e5499314db1b5f433d4887f5a24": {
      "model_module": "@jupyter-widgets/controls",
      "model_module_version": "2.0.0",
      "model_name": "FloatProgressModel",
      "state": {
       "bar_style": "danger",
       "layout": "IPY_MODEL_3af4807ae8e2496cadfd38516e99a598",
       "max": 4,
       "style": "IPY_MODEL_9e5f01f7589c447d855040c5f7528221"
      }
     },
     "a45a903a584845528d9c736aa6070d7e": {
      "model_module": "@jupyter-widgets/base",
      "model_module_version": "2.0.0",
      "model_name": "LayoutModel",
      "state": {}
     },
     "a58bc9ffb63e4d2b950543c426006bc4": {
      "model_module": "@jupyter-widgets/controls",
      "model_module_version": "2.0.0",
      "model_name": "HTMLStyleModel",
      "state": {
       "description_width": "",
       "font_size": null,
       "text_color": null
      }
     },
     "a5a84083e44b4c649553c09ca90ff8c1": {
      "model_module": "@jupyter-widgets/controls",
      "model_module_version": "2.0.0",
      "model_name": "ProgressStyleModel",
      "state": {
       "description_width": ""
      }
     },
     "a61a86af79c949699aa9a37df3048445": {
      "model_module": "@jupyter-widgets/base",
      "model_module_version": "2.0.0",
      "model_name": "LayoutModel",
      "state": {}
     },
     "a6b0bb7aacf545e28cb93f20345c890a": {
      "model_module": "@jupyter-widgets/controls",
      "model_module_version": "2.0.0",
      "model_name": "HTMLModel",
      "state": {
       "layout": "IPY_MODEL_78351b24e77b420680dbc3870878f993",
       "style": "IPY_MODEL_e5406cd5750d4ff1bc97e97aaf052f6d",
       "value": "  0%"
      }
     },
     "a6e4431a666a40ba82824e53b7fe0a07": {
      "model_module": "@jupyter-widgets/base",
      "model_module_version": "2.0.0",
      "model_name": "LayoutModel",
      "state": {}
     },
     "a6e597040fce45a9b0c6de79f54f23bc": {
      "model_module": "@jupyter-widgets/base",
      "model_module_version": "2.0.0",
      "model_name": "LayoutModel",
      "state": {
       "visibility": "hidden"
      }
     },
     "a72530af7b5a45ee8449470be6436799": {
      "model_module": "@jupyter-widgets/base",
      "model_module_version": "2.0.0",
      "model_name": "LayoutModel",
      "state": {}
     },
     "a87d0222f41b4d89a67324a0d06e43e3": {
      "model_module": "@jupyter-widgets/controls",
      "model_module_version": "2.0.0",
      "model_name": "HTMLModel",
      "state": {
       "layout": "IPY_MODEL_16272d62af874a8e9b4ee8f61441e116",
       "style": "IPY_MODEL_b94b02ff14b54373b5d78e5f8eece89b",
       "value": " 0/1 [00:00&lt;?, ?ba/s]"
      }
     },
     "a8a0869caa3241c7bfd00993fbff8fb1": {
      "model_module": "@jupyter-widgets/controls",
      "model_module_version": "2.0.0",
      "model_name": "HBoxModel",
      "state": {
       "children": [
        "IPY_MODEL_113ac96bfa8d40e2910980c35191f2ff",
        "IPY_MODEL_feacaca302e54ec8a77a05e20551edd0",
        "IPY_MODEL_3e79a1e93c414a51b6c7589f55e8a61e"
       ],
       "layout": "IPY_MODEL_1c996cacc943437c9224dcee244eba26"
      }
     },
     "a903200fbd814464a92e804d7e5f71f2": {
      "model_module": "@jupyter-widgets/controls",
      "model_module_version": "2.0.0",
      "model_name": "HTMLModel",
      "state": {
       "layout": "IPY_MODEL_a0d99093fbb345ddb94e9f2185600954",
       "style": "IPY_MODEL_28739be49bab450a9a82a25e798eb08d",
       "value": "Generating train split: 100%"
      }
     },
     "a9c828ae37f04abb9861fbb9da2b8d9a": {
      "model_module": "@jupyter-widgets/base",
      "model_module_version": "2.0.0",
      "model_name": "LayoutModel",
      "state": {}
     },
     "aa5ae87d5c534ecc931bd867ae70af4c": {
      "model_module": "@jupyter-widgets/controls",
      "model_module_version": "2.0.0",
      "model_name": "ProgressStyleModel",
      "state": {
       "description_width": ""
      }
     },
     "aad8f10f4ab04461b7309e73e822332d": {
      "model_module": "@jupyter-widgets/controls",
      "model_module_version": "2.0.0",
      "model_name": "ProgressStyleModel",
      "state": {
       "description_width": ""
      }
     },
     "ab10f617ec5541efa75e0f1ced77b200": {
      "model_module": "@jupyter-widgets/base",
      "model_module_version": "2.0.0",
      "model_name": "LayoutModel",
      "state": {}
     },
     "aba81e54c88c41d39e673d9b24eeb04f": {
      "model_module": "@jupyter-widgets/base",
      "model_module_version": "2.0.0",
      "model_name": "LayoutModel",
      "state": {}
     },
     "afe856cbace240718a1e3a8c90464976": {
      "model_module": "@jupyter-widgets/controls",
      "model_module_version": "2.0.0",
      "model_name": "HTMLModel",
      "state": {
       "layout": "IPY_MODEL_e5e89fb8d4d34427bcef330f81776522",
       "style": "IPY_MODEL_02eeba9626694c26b4a92c64a4d4333e",
       "value": " 0/4 [00:00&lt;?, ?ba/s]"
      }
     },
     "b184f099bcfc4c5482e2690f1d149a40": {
      "model_module": "@jupyter-widgets/base",
      "model_module_version": "2.0.0",
      "model_name": "LayoutModel",
      "state": {}
     },
     "b23ad71a7b1b417e96459fc87866c520": {
      "model_module": "@jupyter-widgets/controls",
      "model_module_version": "2.0.0",
      "model_name": "HTMLStyleModel",
      "state": {
       "description_width": "",
       "font_size": null,
       "text_color": null
      }
     },
     "b316a8bb725f45928f69985ae2da2b23": {
      "model_module": "@jupyter-widgets/base",
      "model_module_version": "2.0.0",
      "model_name": "LayoutModel",
      "state": {}
     },
     "b3b7b7f407504293a484e522e7a1e95b": {
      "model_module": "@jupyter-widgets/controls",
      "model_module_version": "2.0.0",
      "model_name": "HTMLStyleModel",
      "state": {
       "description_width": "",
       "font_size": null,
       "text_color": null
      }
     },
     "b513be77b49140c8a016b258683e5500": {
      "model_module": "@jupyter-widgets/controls",
      "model_module_version": "2.0.0",
      "model_name": "FloatProgressModel",
      "state": {
       "bar_style": "success",
       "layout": "IPY_MODEL_b184f099bcfc4c5482e2690f1d149a40",
       "max": 2,
       "style": "IPY_MODEL_5aa14773bf634115ae7653b80701b113",
       "value": 2
      }
     },
     "b5d27f535dff4159ae0eb10b7c5c485a": {
      "model_module": "@jupyter-widgets/base",
      "model_module_version": "2.0.0",
      "model_name": "LayoutModel",
      "state": {}
     },
     "b61da6838075494686afce5b10bf98dd": {
      "model_module": "@jupyter-widgets/base",
      "model_module_version": "2.0.0",
      "model_name": "LayoutModel",
      "state": {}
     },
     "b6e9e88a240c4fe3bd14766dab50ec49": {
      "model_module": "@jupyter-widgets/base",
      "model_module_version": "2.0.0",
      "model_name": "LayoutModel",
      "state": {}
     },
     "b94b02ff14b54373b5d78e5f8eece89b": {
      "model_module": "@jupyter-widgets/controls",
      "model_module_version": "2.0.0",
      "model_name": "HTMLStyleModel",
      "state": {
       "description_width": "",
       "font_size": null,
       "text_color": null
      }
     },
     "ba2823d35cb14a198ae28da7b6b5a494": {
      "model_module": "@jupyter-widgets/controls",
      "model_module_version": "2.0.0",
      "model_name": "FloatProgressModel",
      "state": {
       "bar_style": "danger",
       "layout": "IPY_MODEL_b61da6838075494686afce5b10bf98dd",
       "max": 4,
       "style": "IPY_MODEL_964d11b785ac4f859e9f22d07e722303"
      }
     },
     "be01c1b9bbdc46959e9f1d2ad373fe75": {
      "model_module": "@jupyter-widgets/controls",
      "model_module_version": "2.0.0",
      "model_name": "FloatProgressModel",
      "state": {
       "bar_style": "danger",
       "layout": "IPY_MODEL_ab10f617ec5541efa75e0f1ced77b200",
       "max": 8,
       "style": "IPY_MODEL_c980ae360f65487da177e95a134954f9"
      }
     },
     "bfb5561446af49bba9595b87909705b4": {
      "model_module": "@jupyter-widgets/base",
      "model_module_version": "2.0.0",
      "model_name": "LayoutModel",
      "state": {}
     },
     "bfe859dfcce04834a4ebaf41c7dcb985": {
      "model_module": "@jupyter-widgets/base",
      "model_module_version": "2.0.0",
      "model_name": "LayoutModel",
      "state": {}
     },
     "c12bb51eaab2484ab05db59fe050b59f": {
      "model_module": "@jupyter-widgets/controls",
      "model_module_version": "2.0.0",
      "model_name": "HTMLStyleModel",
      "state": {
       "description_width": "",
       "font_size": null,
       "text_color": null
      }
     },
     "c168b421f44d426fb0a0882a9f7fd7ab": {
      "model_module": "@jupyter-widgets/controls",
      "model_module_version": "2.0.0",
      "model_name": "HTMLStyleModel",
      "state": {
       "description_width": "",
       "font_size": null,
       "text_color": null
      }
     },
     "c16d53cf9ecb4b018fad4141db08aeca": {
      "model_module": "@jupyter-widgets/base",
      "model_module_version": "2.0.0",
      "model_name": "LayoutModel",
      "state": {}
     },
     "c1876dfe5de440f6b2d15c8e35e24892": {
      "model_module": "@jupyter-widgets/controls",
      "model_module_version": "2.0.0",
      "model_name": "HBoxModel",
      "state": {
       "children": [
        "IPY_MODEL_18e2c6cd019d41bbb3dd5e49772a78b1",
        "IPY_MODEL_4c6da8060f2a432db1a0df5a077b3160",
        "IPY_MODEL_4885a4b34bc0469f81452b14118d886e"
       ],
       "layout": "IPY_MODEL_def93a2723f24608b753b76e6d4fed96"
      }
     },
     "c29bafafeb4242adb920d18388f6f38d": {
      "model_module": "@jupyter-widgets/controls",
      "model_module_version": "2.0.0",
      "model_name": "ProgressStyleModel",
      "state": {
       "description_width": ""
      }
     },
     "c33fe2be10e14950ba99b5d25f1e130f": {
      "model_module": "@jupyter-widgets/base",
      "model_module_version": "2.0.0",
      "model_name": "LayoutModel",
      "state": {}
     },
     "c4bf50c1ae8b41f9806b61cf4c9b3867": {
      "model_module": "@jupyter-widgets/controls",
      "model_module_version": "2.0.0",
      "model_name": "HTMLModel",
      "state": {
       "layout": "IPY_MODEL_71ad287785804d77bac17f84088a31e1",
       "style": "IPY_MODEL_800f5aaafc5946c089e50dd058489304",
       "value": " 2/2 [00:00&lt;00:00, 46.10it/s]"
      }
     },
     "c4ddb7ff53224f7b98532c798a48f1b4": {
      "model_module": "@jupyter-widgets/controls",
      "model_module_version": "2.0.0",
      "model_name": "HTMLStyleModel",
      "state": {
       "description_width": "",
       "font_size": null,
       "text_color": null
      }
     },
     "c514ad6a77d54124beb122118b372726": {
      "model_module": "@jupyter-widgets/controls",
      "model_module_version": "2.0.0",
      "model_name": "HBoxModel",
      "state": {
       "children": [
        "IPY_MODEL_9d84e710ebf34d2088441366d57335c0",
        "IPY_MODEL_2c0d221a87824bb2a804a44966b880c3",
        "IPY_MODEL_58add672b717408cb25076a45541b7fc"
       ],
       "layout": "IPY_MODEL_e4c25dfeec624bcf98bb0831282aa247"
      }
     },
     "c5cd5b2d36094388ae3300416eb9ed71": {
      "model_module": "@jupyter-widgets/controls",
      "model_module_version": "2.0.0",
      "model_name": "HTMLModel",
      "state": {
       "layout": "IPY_MODEL_e6ca52f2baac4b97ab72a1ecf005a4a6",
       "style": "IPY_MODEL_91ef762a9fd7426ea8f4d6f20331b676",
       "value": " 10570/10570 [00:17&lt;00:00, 12700.78 examples/s]"
      }
     },
     "c63cf633b2944690958935a6577439e4": {
      "model_module": "@jupyter-widgets/base",
      "model_module_version": "2.0.0",
      "model_name": "LayoutModel",
      "state": {}
     },
     "c8542926cfe14f7a911a3c022af42916": {
      "model_module": "@jupyter-widgets/controls",
      "model_module_version": "2.0.0",
      "model_name": "ProgressStyleModel",
      "state": {
       "description_width": ""
      }
     },
     "c980ae360f65487da177e95a134954f9": {
      "model_module": "@jupyter-widgets/controls",
      "model_module_version": "2.0.0",
      "model_name": "ProgressStyleModel",
      "state": {
       "description_width": ""
      }
     },
     "ca34324beb2649b5976fb066ee8d1d20": {
      "model_module": "@jupyter-widgets/base",
      "model_module_version": "2.0.0",
      "model_name": "LayoutModel",
      "state": {}
     },
     "cb2be4f0dbc046d79ebeaa8b14a006e5": {
      "model_module": "@jupyter-widgets/controls",
      "model_module_version": "2.0.0",
      "model_name": "HTMLModel",
      "state": {
       "layout": "IPY_MODEL_fc8ab77dbe5147109edbd351b32e25e9",
       "style": "IPY_MODEL_c4ddb7ff53224f7b98532c798a48f1b4",
       "value": " 0/4 [00:00&lt;?, ?ba/s]"
      }
     },
     "ccdf4d25ec324d11bfbd2f1e7e22f156": {
      "model_module": "@jupyter-widgets/base",
      "model_module_version": "2.0.0",
      "model_name": "LayoutModel",
      "state": {}
     },
     "cdcfe798b76a4fc89b19cc08317ff10a": {
      "model_module": "@jupyter-widgets/base",
      "model_module_version": "2.0.0",
      "model_name": "LayoutModel",
      "state": {}
     },
     "cf414e905c0d40018ba59a35d0bf0b28": {
      "model_module": "@jupyter-widgets/base",
      "model_module_version": "2.0.0",
      "model_name": "LayoutModel",
      "state": {}
     },
     "cfa6df51b2944497ae484424d03eea1a": {
      "model_module": "@jupyter-widgets/base",
      "model_module_version": "2.0.0",
      "model_name": "LayoutModel",
      "state": {}
     },
     "d0d12dbc979e428183dc47293733f4c2": {
      "model_module": "@jupyter-widgets/controls",
      "model_module_version": "2.0.0",
      "model_name": "HTMLModel",
      "state": {
       "layout": "IPY_MODEL_1d730a93b06f406ea54a01b4a41124f6",
       "style": "IPY_MODEL_b3b7b7f407504293a484e522e7a1e95b",
       "value": "  0%"
      }
     },
     "d195f41ba08c4ec9954c24b8e8bcbe50": {
      "model_module": "@jupyter-widgets/controls",
      "model_module_version": "2.0.0",
      "model_name": "HTMLModel",
      "state": {
       "layout": "IPY_MODEL_52fed7c3d06140e6a819a894f4e3be49",
       "style": "IPY_MODEL_f5a71e511d1f4fa1a37bc7755395ead2",
       "value": "  0%"
      }
     },
     "d1d06e5526e5491c8a69f40524088fce": {
      "model_module": "@jupyter-widgets/controls",
      "model_module_version": "2.0.0",
      "model_name": "HTMLStyleModel",
      "state": {
       "description_width": "",
       "font_size": null,
       "text_color": null
      }
     },
     "d1e77f58051e48b4b9e304bcb1b2220b": {
      "model_module": "@jupyter-widgets/controls",
      "model_module_version": "2.0.0",
      "model_name": "FloatProgressModel",
      "state": {
       "bar_style": "success",
       "layout": "IPY_MODEL_838f3c33239b425f932f3a4c4debd159",
       "max": 2,
       "style": "IPY_MODEL_aa5ae87d5c534ecc931bd867ae70af4c",
       "value": 2
      }
     },
     "d2259f6f1470412bbed740eaaa2339b1": {
      "model_module": "@jupyter-widgets/controls",
      "model_module_version": "2.0.0",
      "model_name": "HTMLStyleModel",
      "state": {
       "description_width": "",
       "font_size": null,
       "text_color": null
      }
     },
     "d4fbb621533a493cb0bd5c028aea7344": {
      "model_module": "@jupyter-widgets/controls",
      "model_module_version": "2.0.0",
      "model_name": "FloatProgressModel",
      "state": {
       "bar_style": "danger",
       "layout": "IPY_MODEL_27d62530e1474ce28c91f64d84a1016b",
       "max": 4,
       "style": "IPY_MODEL_6948265e3294441a95eecce63176152e"
      }
     },
     "d76991ad9c554399b9a02f5780407176": {
      "model_module": "@jupyter-widgets/base",
      "model_module_version": "2.0.0",
      "model_name": "LayoutModel",
      "state": {}
     },
     "d829f419393f41d38b9974c9ef94ad0b": {
      "model_module": "@jupyter-widgets/base",
      "model_module_version": "2.0.0",
      "model_name": "LayoutModel",
      "state": {}
     },
     "d8647615702c46a0828bbf31e9d0a9e8": {
      "model_module": "@jupyter-widgets/base",
      "model_module_version": "2.0.0",
      "model_name": "LayoutModel",
      "state": {}
     },
     "da4628b975b148e59324cdcece5e0456": {
      "model_module": "@jupyter-widgets/controls",
      "model_module_version": "2.0.0",
      "model_name": "HTMLModel",
      "state": {
       "layout": "IPY_MODEL_9928bd94ef514cc8a2a0f7b3bae3f791",
       "style": "IPY_MODEL_525bde07c66f419e9340de74e0cd7a04",
       "value": "  0%"
      }
     },
     "daf5de89d24a468f810d4011aa218995": {
      "model_module": "@jupyter-widgets/controls",
      "model_module_version": "2.0.0",
      "model_name": "FloatProgressModel",
      "state": {
       "layout": "IPY_MODEL_9114ac891a5747a3aa4b724343588dca",
       "max": 10570,
       "style": "IPY_MODEL_198d4639b2bb4f29adb8a477880404d3",
       "value": 10570
      }
     },
     "db7623d52566440591328908c0d3ad68": {
      "model_module": "@jupyter-widgets/controls",
      "model_module_version": "2.0.0",
      "model_name": "HTMLStyleModel",
      "state": {
       "description_width": "",
       "font_size": null,
       "text_color": null
      }
     },
     "dbc28d6739c04ab6afc62aef60bc57e2": {
      "model_module": "@jupyter-widgets/controls",
      "model_module_version": "2.0.0",
      "model_name": "FloatProgressModel",
      "state": {
       "bar_style": "danger",
       "layout": "IPY_MODEL_d8647615702c46a0828bbf31e9d0a9e8",
       "max": 4,
       "style": "IPY_MODEL_3d43e9fe961f4db8920b834519b28d0b"
      }
     },
     "dc29e7d8961649738203caa00c6b0e92": {
      "model_module": "@jupyter-widgets/controls",
      "model_module_version": "2.0.0",
      "model_name": "ProgressStyleModel",
      "state": {
       "description_width": ""
      }
     },
     "dc471b8f3e2e49cda582575ec400f355": {
      "model_module": "@jupyter-widgets/controls",
      "model_module_version": "2.0.0",
      "model_name": "HTMLModel",
      "state": {
       "layout": "IPY_MODEL_d76991ad9c554399b9a02f5780407176",
       "style": "IPY_MODEL_e2ab0a4fbfef4db4a5e569bf0b5892f0",
       "value": "  0%"
      }
     },
     "def93a2723f24608b753b76e6d4fed96": {
      "model_module": "@jupyter-widgets/base",
      "model_module_version": "2.0.0",
      "model_name": "LayoutModel",
      "state": {}
     },
     "dfe496a7c59c4a229ac243b5a293d85f": {
      "model_module": "@jupyter-widgets/controls",
      "model_module_version": "2.0.0",
      "model_name": "HTMLStyleModel",
      "state": {
       "description_width": "",
       "font_size": null,
       "text_color": null
      }
     },
     "e01e9f28c9274eb7ab6fa97af64ce21c": {
      "model_module": "@jupyter-widgets/base",
      "model_module_version": "2.0.0",
      "model_name": "LayoutModel",
      "state": {}
     },
     "e1e5ddb993f44394a3ffca0ec8666b5e": {
      "model_module": "@jupyter-widgets/controls",
      "model_module_version": "2.0.0",
      "model_name": "HTMLStyleModel",
      "state": {
       "description_width": "",
       "font_size": null,
       "text_color": null
      }
     },
     "e2397b2832b948058f4b03cf734447ed": {
      "model_module": "@jupyter-widgets/controls",
      "model_module_version": "2.0.0",
      "model_name": "HTMLModel",
      "state": {
       "layout": "IPY_MODEL_c33fe2be10e14950ba99b5d25f1e130f",
       "style": "IPY_MODEL_7f04cfc042c64c3c854694d2abcb1bd0",
       "value": "  0%"
      }
     },
     "e2460c8bd2bc4b1fa82be1ef578808ac": {
      "model_module": "@jupyter-widgets/controls",
      "model_module_version": "2.0.0",
      "model_name": "FloatProgressModel",
      "state": {
       "bar_style": "danger",
       "layout": "IPY_MODEL_cfa6df51b2944497ae484424d03eea1a",
       "max": 4,
       "style": "IPY_MODEL_0258060796284c5e97d76552b19b2a19"
      }
     },
     "e2ab0a4fbfef4db4a5e569bf0b5892f0": {
      "model_module": "@jupyter-widgets/controls",
      "model_module_version": "2.0.0",
      "model_name": "HTMLStyleModel",
      "state": {
       "description_width": "",
       "font_size": null,
       "text_color": null
      }
     },
     "e36df293da9e450c848ae716144a3f6d": {
      "model_module": "@jupyter-widgets/base",
      "model_module_version": "2.0.0",
      "model_name": "LayoutModel",
      "state": {}
     },
     "e40d30ca752548989269368cbbbc79e9": {
      "model_module": "@jupyter-widgets/base",
      "model_module_version": "2.0.0",
      "model_name": "LayoutModel",
      "state": {}
     },
     "e411860ea0f4474499f0b62e60cbfdcb": {
      "model_module": "@jupyter-widgets/base",
      "model_module_version": "2.0.0",
      "model_name": "LayoutModel",
      "state": {}
     },
     "e4c25dfeec624bcf98bb0831282aa247": {
      "model_module": "@jupyter-widgets/base",
      "model_module_version": "2.0.0",
      "model_name": "LayoutModel",
      "state": {}
     },
     "e4e6f6ffda044a199dce3a8bccfe3348": {
      "model_module": "@jupyter-widgets/base",
      "model_module_version": "2.0.0",
      "model_name": "LayoutModel",
      "state": {}
     },
     "e5406cd5750d4ff1bc97e97aaf052f6d": {
      "model_module": "@jupyter-widgets/controls",
      "model_module_version": "2.0.0",
      "model_name": "HTMLStyleModel",
      "state": {
       "description_width": "",
       "font_size": null,
       "text_color": null
      }
     },
     "e5e89fb8d4d34427bcef330f81776522": {
      "model_module": "@jupyter-widgets/base",
      "model_module_version": "2.0.0",
      "model_name": "LayoutModel",
      "state": {}
     },
     "e5fccf4bd5714cba995c95a7cdbdf32c": {
      "model_module": "@jupyter-widgets/base",
      "model_module_version": "2.0.0",
      "model_name": "LayoutModel",
      "state": {}
     },
     "e69f69a23382492883b67f8a7f3f49ad": {
      "model_module": "@jupyter-widgets/controls",
      "model_module_version": "2.0.0",
      "model_name": "HTMLModel",
      "state": {
       "layout": "IPY_MODEL_c63cf633b2944690958935a6577439e4",
       "style": "IPY_MODEL_d1d06e5526e5491c8a69f40524088fce",
       "value": "  0%"
      }
     },
     "e6ca52f2baac4b97ab72a1ecf005a4a6": {
      "model_module": "@jupyter-widgets/base",
      "model_module_version": "2.0.0",
      "model_name": "LayoutModel",
      "state": {}
     },
     "e71a4c02c3394e9997ca5f6c0a15a77a": {
      "model_module": "@jupyter-widgets/controls",
      "model_module_version": "2.0.0",
      "model_name": "HTMLStyleModel",
      "state": {
       "description_width": "",
       "font_size": null,
       "text_color": null
      }
     },
     "e7c5793466cb4ca78e5dfaee909bc51c": {
      "model_module": "@jupyter-widgets/controls",
      "model_module_version": "2.0.0",
      "model_name": "HTMLStyleModel",
      "state": {
       "description_width": "",
       "font_size": null,
       "text_color": null
      }
     },
     "e7c8e09329e34e7b8e6938bdb87522e8": {
      "model_module": "@jupyter-widgets/controls",
      "model_module_version": "2.0.0",
      "model_name": "FloatProgressModel",
      "state": {
       "bar_style": "danger",
       "layout": "IPY_MODEL_bfe859dfcce04834a4ebaf41c7dcb985",
       "max": 4,
       "style": "IPY_MODEL_a2d9629c6b754b9ebefeec4939bd7925"
      }
     },
     "e9ab80a8715c46ec80cffcf1db86a248": {
      "model_module": "@jupyter-widgets/controls",
      "model_module_version": "2.0.0",
      "model_name": "HBoxModel",
      "state": {
       "children": [
        "IPY_MODEL_d195f41ba08c4ec9954c24b8e8bcbe50",
        "IPY_MODEL_4fa5ee09efbc400784176a44a1345f6f",
        "IPY_MODEL_4ced2b5f062f428eaceec5ea7462909d"
       ],
       "layout": "IPY_MODEL_986eca6464304c6483d581b8f5a32733"
      }
     },
     "eb60c52cb4564f46811fecdde400d504": {
      "model_module": "@jupyter-widgets/controls",
      "model_module_version": "2.0.0",
      "model_name": "ProgressStyleModel",
      "state": {
       "description_width": ""
      }
     },
     "ed085758fd0143998f3cb5247c43bb42": {
      "model_module": "@jupyter-widgets/controls",
      "model_module_version": "2.0.0",
      "model_name": "HTMLStyleModel",
      "state": {
       "description_width": "",
       "font_size": null,
       "text_color": null
      }
     },
     "ee17491adbad47979bce1d75aaa93e48": {
      "model_module": "@jupyter-widgets/controls",
      "model_module_version": "2.0.0",
      "model_name": "ProgressStyleModel",
      "state": {
       "description_width": ""
      }
     },
     "ef1af081273648b7b1250dee8727ecca": {
      "model_module": "@jupyter-widgets/controls",
      "model_module_version": "2.0.0",
      "model_name": "HBoxModel",
      "state": {
       "children": [
        "IPY_MODEL_f85cbe78e0634f7ba97c9753b9f2f34b",
        "IPY_MODEL_916b64a6311c4fa08d20160dd023e824",
        "IPY_MODEL_5a20a918632d4c43b0aefac0d8e6e656"
       ],
       "layout": "IPY_MODEL_e01e9f28c9274eb7ab6fa97af64ce21c"
      }
     },
     "efcfbe9838f54b0f8a1d68459c91165b": {
      "model_module": "@jupyter-widgets/controls",
      "model_module_version": "2.0.0",
      "model_name": "HTMLStyleModel",
      "state": {
       "description_width": "",
       "font_size": null,
       "text_color": null
      }
     },
     "f0a00897e1a9465d8b067a6410cc172d": {
      "model_module": "@jupyter-widgets/controls",
      "model_module_version": "2.0.0",
      "model_name": "HTMLStyleModel",
      "state": {
       "description_width": "",
       "font_size": null,
       "text_color": null
      }
     },
     "f0be10d836d74537b8fbe3c30267d652": {
      "model_module": "@jupyter-widgets/controls",
      "model_module_version": "2.0.0",
      "model_name": "HTMLStyleModel",
      "state": {
       "description_width": "",
       "font_size": null,
       "text_color": null
      }
     },
     "f105740549d442dba71b77c7ff372b1a": {
      "model_module": "@jupyter-widgets/controls",
      "model_module_version": "2.0.0",
      "model_name": "HTMLModel",
      "state": {
       "layout": "IPY_MODEL_e5fccf4bd5714cba995c95a7cdbdf32c",
       "style": "IPY_MODEL_71c7900c71914c6ea14db0af88aa32e5",
       "value": "  0%"
      }
     },
     "f18f23c374a146a88faa11292a29e76c": {
      "model_module": "@jupyter-widgets/controls",
      "model_module_version": "2.0.0",
      "model_name": "HTMLModel",
      "state": {
       "layout": "IPY_MODEL_828aa40d3c734de398aab316f6fc899c",
       "style": "IPY_MODEL_5c26eaa5c87b4369b454fdd52230826d",
       "value": "Downloading data: "
      }
     },
     "f23bbad4475d412e8f17ecd53730691e": {
      "model_module": "@jupyter-widgets/base",
      "model_module_version": "2.0.0",
      "model_name": "LayoutModel",
      "state": {}
     },
     "f3176ce503004193855748da9b42db8f": {
      "model_module": "@jupyter-widgets/base",
      "model_module_version": "2.0.0",
      "model_name": "LayoutModel",
      "state": {}
     },
     "f3717f71f95f4d6c8f624701d6af582c": {
      "model_module": "@jupyter-widgets/base",
      "model_module_version": "2.0.0",
      "model_name": "LayoutModel",
      "state": {}
     },
     "f3c85b04525243faa7680289a449d80f": {
      "model_module": "@jupyter-widgets/controls",
      "model_module_version": "2.0.0",
      "model_name": "HTMLModel",
      "state": {
       "layout": "IPY_MODEL_8e51c8b7cef34b8e80b3969b798dfe37",
       "style": "IPY_MODEL_00e1a7a3490e45949423f19c9be93120",
       "value": " 0/4 [00:00&lt;?, ?ba/s]"
      }
     },
     "f46aff6478674b2ea5c268bf392db7ee": {
      "model_module": "@jupyter-widgets/controls",
      "model_module_version": "2.0.0",
      "model_name": "HBoxModel",
      "state": {
       "children": [
        "IPY_MODEL_7ad7f614cd924494af7fbf1a7ae86eed",
        "IPY_MODEL_865d3bab215441589a3677c2998a8713",
        "IPY_MODEL_7d37185ed42a485581cbefbef7dbcabe"
       ],
       "layout": "IPY_MODEL_6fb5becae45b4645933d21617ced1738"
      }
     },
     "f531291b481a4fcdb512abd6cb674e30": {
      "model_module": "@jupyter-widgets/controls",
      "model_module_version": "2.0.0",
      "model_name": "FloatProgressModel",
      "state": {
       "bar_style": "danger",
       "layout": "IPY_MODEL_6a81228923ed44fda7a1d7f2c96c62ef",
       "max": 4,
       "style": "IPY_MODEL_c8542926cfe14f7a911a3c022af42916"
      }
     },
     "f57f971b30414811b4869992dd82aec8": {
      "model_module": "@jupyter-widgets/base",
      "model_module_version": "2.0.0",
      "model_name": "LayoutModel",
      "state": {}
     },
     "f5a71e511d1f4fa1a37bc7755395ead2": {
      "model_module": "@jupyter-widgets/controls",
      "model_module_version": "2.0.0",
      "model_name": "HTMLStyleModel",
      "state": {
       "description_width": "",
       "font_size": null,
       "text_color": null
      }
     },
     "f832871d4e8d4d05a750ccb84e687d36": {
      "model_module": "@jupyter-widgets/controls",
      "model_module_version": "2.0.0",
      "model_name": "HBoxModel",
      "state": {
       "children": [
        "IPY_MODEL_f18f23c374a146a88faa11292a29e76c",
        "IPY_MODEL_43bec1c6b4cf496c810794cdc299451b",
        "IPY_MODEL_124c333800974b379702f306e0673dbe"
       ],
       "layout": "IPY_MODEL_a61a86af79c949699aa9a37df3048445"
      }
     },
     "f85cbe78e0634f7ba97c9753b9f2f34b": {
      "model_module": "@jupyter-widgets/controls",
      "model_module_version": "2.0.0",
      "model_name": "HTMLModel",
      "state": {
       "layout": "IPY_MODEL_4f754d5bcb4d4fbab9e804d86e838a65",
       "style": "IPY_MODEL_e71a4c02c3394e9997ca5f6c0a15a77a",
       "value": "  0%"
      }
     },
     "f9a79c47a12146448ab57f00767fd6b7": {
      "model_module": "@jupyter-widgets/controls",
      "model_module_version": "2.0.0",
      "model_name": "HTMLStyleModel",
      "state": {
       "description_width": "",
       "font_size": null,
       "text_color": null
      }
     },
     "fa4ecb7b29754fe1af894cfdf6aacc58": {
      "model_module": "@jupyter-widgets/base",
      "model_module_version": "2.0.0",
      "model_name": "LayoutModel",
      "state": {}
     },
     "fc62b6aa2b7845e3a4572086cfee6fbc": {
      "model_module": "@jupyter-widgets/base",
      "model_module_version": "2.0.0",
      "model_name": "LayoutModel",
      "state": {}
     },
     "fc8ab77dbe5147109edbd351b32e25e9": {
      "model_module": "@jupyter-widgets/base",
      "model_module_version": "2.0.0",
      "model_name": "LayoutModel",
      "state": {}
     },
     "fcbdcfc70a04409a9ebc64cf66a4a43b": {
      "model_module": "@jupyter-widgets/controls",
      "model_module_version": "2.0.0",
      "model_name": "HTMLStyleModel",
      "state": {
       "description_width": "",
       "font_size": null,
       "text_color": null
      }
     },
     "feacaca302e54ec8a77a05e20551edd0": {
      "model_module": "@jupyter-widgets/controls",
      "model_module_version": "2.0.0",
      "model_name": "FloatProgressModel",
      "state": {
       "bar_style": "success",
       "layout": "IPY_MODEL_854fe67be5be464b90e3ebd3cb2418f0",
       "max": 7665,
       "style": "IPY_MODEL_720419fe309e4d54b4abcf1e6db4934a",
       "value": 7665
      }
     },
     "fee0f725f4464e23a21c700f51faa89c": {
      "model_module": "@jupyter-widgets/base",
      "model_module_version": "2.0.0",
      "model_name": "LayoutModel",
      "state": {}
     }
    },
    "version_major": 2,
    "version_minor": 0
   }
  }
 },
 "nbformat": 4,
 "nbformat_minor": 5
}
